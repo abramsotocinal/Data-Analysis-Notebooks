{
 "cells": [
  {
   "cell_type": "markdown",
   "metadata": {},
   "source": [
    "# Data Cleaning With Pandas - Basics "
   ]
  },
  {
   "cell_type": "markdown",
   "metadata": {},
   "source": [
    "In this exercise we demonstrate how to clean and prepare data for analysis using Pandas. We're going to demonstrate a few basic techniques that are used when making data ready to be processed. Cleaning data is fundamental as \"dirty\" or inaccurate data will lead to inaccurate output so being able to clean data efficiently and properly is a must.\n",
    "\n",
    "For this exercise we're using the Ebay Car Sales data set derived from Kaggle(with a few minor modifications, perfect for demonstrating various techniques that we're going to demonstrate. \n",
    "\n",
    "Let's start"
   ]
  },
  {
   "cell_type": "markdown",
   "metadata": {},
   "source": [
    "### First Things First..."
   ]
  },
  {
   "cell_type": "markdown",
   "metadata": {},
   "source": [
    "Let's import pandas and create a dataframe `autos` from our dataset `autos.csv`. Notice how we had to explicitly define the encoding. Left without the encoding option set, it will default to `UTF-8`. Some data sets are encoded differently so you'll have to make sure you have the encoding correct otherwise you'll end up with an import error(as I did, initially). \n",
    "\n",
    "In our case, this dataset was encoded using `Latin-1`"
   ]
  },
  {
   "cell_type": "code",
   "execution_count": 43,
   "metadata": {
    "collapsed": false,
    "jupyter": {
     "outputs_hidden": false
    }
   },
   "outputs": [],
   "source": [
    "import pandas as pd\n",
    "\n",
    "autos = pd.read_csv('autos.csv', encoding='Latin-1')"
   ]
  },
  {
   "cell_type": "code",
   "execution_count": 44,
   "metadata": {
    "collapsed": false,
    "jupyter": {
     "outputs_hidden": false
    }
   },
   "outputs": [],
   "source": [
    "# Set display options; I want to see un-truncated output\n",
    "pd.set_option('display.max_columns', None)"
   ]
  },
  {
   "cell_type": "markdown",
   "metadata": {},
   "source": [
    "### Initial Exploration\n",
    "\n",
    "Before we do anything we need to first take a look at what the dataframe looks like(eg, columns, number of rows, datatypes, etc)"
   ]
  },
  {
   "cell_type": "code",
   "execution_count": 45,
   "metadata": {
    "collapsed": false,
    "jupyter": {
     "outputs_hidden": false
    }
   },
   "outputs": [
    {
     "name": "stdout",
     "output_type": "stream",
     "text": [
      "<class 'pandas.core.frame.DataFrame'>\n",
      "RangeIndex: 50000 entries, 0 to 49999\n",
      "Data columns (total 20 columns):\n",
      "dateCrawled            50000 non-null object\n",
      "name                   50000 non-null object\n",
      "seller                 50000 non-null object\n",
      "offerType              50000 non-null object\n",
      "price                  50000 non-null object\n",
      "abtest                 50000 non-null object\n",
      "vehicleType            44905 non-null object\n",
      "yearOfRegistration     50000 non-null int64\n",
      "gearbox                47320 non-null object\n",
      "powerPS                50000 non-null int64\n",
      "model                  47242 non-null object\n",
      "odometer               50000 non-null object\n",
      "monthOfRegistration    50000 non-null int64\n",
      "fuelType               45518 non-null object\n",
      "brand                  50000 non-null object\n",
      "notRepairedDamage      40171 non-null object\n",
      "dateCreated            50000 non-null object\n",
      "nrOfPictures           50000 non-null int64\n",
      "postalCode             50000 non-null int64\n",
      "lastSeen               50000 non-null object\n",
      "dtypes: int64(5), object(15)\n",
      "memory usage: 4.8+ MB\n",
      "None\n"
     ]
    }
   ],
   "source": [
    "# Initial exploration\n",
    "\n",
    "print(autos.info())\n"
   ]
  },
  {
   "cell_type": "code",
   "execution_count": 46,
   "metadata": {},
   "outputs": [
    {
     "data": {
      "text/html": [
       "<div>\n",
       "<style scoped>\n",
       "    .dataframe tbody tr th:only-of-type {\n",
       "        vertical-align: middle;\n",
       "    }\n",
       "\n",
       "    .dataframe tbody tr th {\n",
       "        vertical-align: top;\n",
       "    }\n",
       "\n",
       "    .dataframe thead th {\n",
       "        text-align: right;\n",
       "    }\n",
       "</style>\n",
       "<table border=\"1\" class=\"dataframe\">\n",
       "  <thead>\n",
       "    <tr style=\"text-align: right;\">\n",
       "      <th></th>\n",
       "      <th>dateCrawled</th>\n",
       "      <th>name</th>\n",
       "      <th>seller</th>\n",
       "      <th>offerType</th>\n",
       "      <th>price</th>\n",
       "      <th>abtest</th>\n",
       "      <th>vehicleType</th>\n",
       "      <th>yearOfRegistration</th>\n",
       "      <th>gearbox</th>\n",
       "      <th>powerPS</th>\n",
       "      <th>model</th>\n",
       "      <th>odometer</th>\n",
       "      <th>monthOfRegistration</th>\n",
       "      <th>fuelType</th>\n",
       "      <th>brand</th>\n",
       "      <th>notRepairedDamage</th>\n",
       "      <th>dateCreated</th>\n",
       "      <th>nrOfPictures</th>\n",
       "      <th>postalCode</th>\n",
       "      <th>lastSeen</th>\n",
       "    </tr>\n",
       "  </thead>\n",
       "  <tbody>\n",
       "    <tr>\n",
       "      <th>0</th>\n",
       "      <td>2016-03-26 17:47:46</td>\n",
       "      <td>Peugeot_807_160_NAVTECH_ON_BOARD</td>\n",
       "      <td>privat</td>\n",
       "      <td>Angebot</td>\n",
       "      <td>$5,000</td>\n",
       "      <td>control</td>\n",
       "      <td>bus</td>\n",
       "      <td>2004</td>\n",
       "      <td>manuell</td>\n",
       "      <td>158</td>\n",
       "      <td>andere</td>\n",
       "      <td>150,000km</td>\n",
       "      <td>3</td>\n",
       "      <td>lpg</td>\n",
       "      <td>peugeot</td>\n",
       "      <td>nein</td>\n",
       "      <td>2016-03-26 00:00:00</td>\n",
       "      <td>0</td>\n",
       "      <td>79588</td>\n",
       "      <td>2016-04-06 06:45:54</td>\n",
       "    </tr>\n",
       "    <tr>\n",
       "      <th>1</th>\n",
       "      <td>2016-04-04 13:38:56</td>\n",
       "      <td>BMW_740i_4_4_Liter_HAMANN_UMBAU_Mega_Optik</td>\n",
       "      <td>privat</td>\n",
       "      <td>Angebot</td>\n",
       "      <td>$8,500</td>\n",
       "      <td>control</td>\n",
       "      <td>limousine</td>\n",
       "      <td>1997</td>\n",
       "      <td>automatik</td>\n",
       "      <td>286</td>\n",
       "      <td>7er</td>\n",
       "      <td>150,000km</td>\n",
       "      <td>6</td>\n",
       "      <td>benzin</td>\n",
       "      <td>bmw</td>\n",
       "      <td>nein</td>\n",
       "      <td>2016-04-04 00:00:00</td>\n",
       "      <td>0</td>\n",
       "      <td>71034</td>\n",
       "      <td>2016-04-06 14:45:08</td>\n",
       "    </tr>\n",
       "    <tr>\n",
       "      <th>2</th>\n",
       "      <td>2016-03-26 18:57:24</td>\n",
       "      <td>Volkswagen_Golf_1.6_United</td>\n",
       "      <td>privat</td>\n",
       "      <td>Angebot</td>\n",
       "      <td>$8,990</td>\n",
       "      <td>test</td>\n",
       "      <td>limousine</td>\n",
       "      <td>2009</td>\n",
       "      <td>manuell</td>\n",
       "      <td>102</td>\n",
       "      <td>golf</td>\n",
       "      <td>70,000km</td>\n",
       "      <td>7</td>\n",
       "      <td>benzin</td>\n",
       "      <td>volkswagen</td>\n",
       "      <td>nein</td>\n",
       "      <td>2016-03-26 00:00:00</td>\n",
       "      <td>0</td>\n",
       "      <td>35394</td>\n",
       "      <td>2016-04-06 20:15:37</td>\n",
       "    </tr>\n",
       "    <tr>\n",
       "      <th>3</th>\n",
       "      <td>2016-03-12 16:58:10</td>\n",
       "      <td>Smart_smart_fortwo_coupe_softouch/F1/Klima/Pan...</td>\n",
       "      <td>privat</td>\n",
       "      <td>Angebot</td>\n",
       "      <td>$4,350</td>\n",
       "      <td>control</td>\n",
       "      <td>kleinwagen</td>\n",
       "      <td>2007</td>\n",
       "      <td>automatik</td>\n",
       "      <td>71</td>\n",
       "      <td>fortwo</td>\n",
       "      <td>70,000km</td>\n",
       "      <td>6</td>\n",
       "      <td>benzin</td>\n",
       "      <td>smart</td>\n",
       "      <td>nein</td>\n",
       "      <td>2016-03-12 00:00:00</td>\n",
       "      <td>0</td>\n",
       "      <td>33729</td>\n",
       "      <td>2016-03-15 03:16:28</td>\n",
       "    </tr>\n",
       "    <tr>\n",
       "      <th>4</th>\n",
       "      <td>2016-04-01 14:38:50</td>\n",
       "      <td>Ford_Focus_1_6_Benzin_TÜV_neu_ist_sehr_gepfleg...</td>\n",
       "      <td>privat</td>\n",
       "      <td>Angebot</td>\n",
       "      <td>$1,350</td>\n",
       "      <td>test</td>\n",
       "      <td>kombi</td>\n",
       "      <td>2003</td>\n",
       "      <td>manuell</td>\n",
       "      <td>0</td>\n",
       "      <td>focus</td>\n",
       "      <td>150,000km</td>\n",
       "      <td>7</td>\n",
       "      <td>benzin</td>\n",
       "      <td>ford</td>\n",
       "      <td>nein</td>\n",
       "      <td>2016-04-01 00:00:00</td>\n",
       "      <td>0</td>\n",
       "      <td>39218</td>\n",
       "      <td>2016-04-01 14:38:50</td>\n",
       "    </tr>\n",
       "  </tbody>\n",
       "</table>\n",
       "</div>"
      ],
      "text/plain": [
       "           dateCrawled                                               name  \\\n",
       "0  2016-03-26 17:47:46                   Peugeot_807_160_NAVTECH_ON_BOARD   \n",
       "1  2016-04-04 13:38:56         BMW_740i_4_4_Liter_HAMANN_UMBAU_Mega_Optik   \n",
       "2  2016-03-26 18:57:24                         Volkswagen_Golf_1.6_United   \n",
       "3  2016-03-12 16:58:10  Smart_smart_fortwo_coupe_softouch/F1/Klima/Pan...   \n",
       "4  2016-04-01 14:38:50  Ford_Focus_1_6_Benzin_TÜV_neu_ist_sehr_gepfleg...   \n",
       "\n",
       "   seller offerType   price   abtest vehicleType  yearOfRegistration  \\\n",
       "0  privat   Angebot  $5,000  control         bus                2004   \n",
       "1  privat   Angebot  $8,500  control   limousine                1997   \n",
       "2  privat   Angebot  $8,990     test   limousine                2009   \n",
       "3  privat   Angebot  $4,350  control  kleinwagen                2007   \n",
       "4  privat   Angebot  $1,350     test       kombi                2003   \n",
       "\n",
       "     gearbox  powerPS   model   odometer  monthOfRegistration fuelType  \\\n",
       "0    manuell      158  andere  150,000km                    3      lpg   \n",
       "1  automatik      286     7er  150,000km                    6   benzin   \n",
       "2    manuell      102    golf   70,000km                    7   benzin   \n",
       "3  automatik       71  fortwo   70,000km                    6   benzin   \n",
       "4    manuell        0   focus  150,000km                    7   benzin   \n",
       "\n",
       "        brand notRepairedDamage          dateCreated  nrOfPictures  \\\n",
       "0     peugeot              nein  2016-03-26 00:00:00             0   \n",
       "1         bmw              nein  2016-04-04 00:00:00             0   \n",
       "2  volkswagen              nein  2016-03-26 00:00:00             0   \n",
       "3       smart              nein  2016-03-12 00:00:00             0   \n",
       "4        ford              nein  2016-04-01 00:00:00             0   \n",
       "\n",
       "   postalCode             lastSeen  \n",
       "0       79588  2016-04-06 06:45:54  \n",
       "1       71034  2016-04-06 14:45:08  \n",
       "2       35394  2016-04-06 20:15:37  \n",
       "3       33729  2016-03-15 03:16:28  \n",
       "4       39218  2016-04-01 14:38:50  "
      ]
     },
     "execution_count": 46,
     "metadata": {},
     "output_type": "execute_result"
    }
   ],
   "source": [
    "autos.head(5)"
   ]
  },
  {
   "cell_type": "code",
   "execution_count": 47,
   "metadata": {},
   "outputs": [
    {
     "name": "stdout",
     "output_type": "stream",
     "text": [
      "                dateCrawled         name  seller offerType  price abtest  \\\n",
      "count                 50000        50000   50000     50000  50000  50000   \n",
      "unique                48213        38754       2         2   2357      2   \n",
      "top     2016-03-19 17:36:18  Ford_Fiesta  privat   Angebot     $0   test   \n",
      "freq                      3           78   49999     49999   1421  25756   \n",
      "mean                    NaN          NaN     NaN       NaN    NaN    NaN   \n",
      "std                     NaN          NaN     NaN       NaN    NaN    NaN   \n",
      "min                     NaN          NaN     NaN       NaN    NaN    NaN   \n",
      "25%                     NaN          NaN     NaN       NaN    NaN    NaN   \n",
      "50%                     NaN          NaN     NaN       NaN    NaN    NaN   \n",
      "75%                     NaN          NaN     NaN       NaN    NaN    NaN   \n",
      "max                     NaN          NaN     NaN       NaN    NaN    NaN   \n",
      "\n",
      "       vehicleType  yearOfRegistration  gearbox       powerPS  model  \\\n",
      "count        44905        50000.000000    47320  50000.000000  47242   \n",
      "unique           8                 NaN        2           NaN    245   \n",
      "top      limousine                 NaN  manuell           NaN   golf   \n",
      "freq         12859                 NaN    36993           NaN   4024   \n",
      "mean           NaN         2005.073280      NaN    116.355920    NaN   \n",
      "std            NaN          105.712813      NaN    209.216627    NaN   \n",
      "min            NaN         1000.000000      NaN      0.000000    NaN   \n",
      "25%            NaN         1999.000000      NaN     70.000000    NaN   \n",
      "50%            NaN         2003.000000      NaN    105.000000    NaN   \n",
      "75%            NaN         2008.000000      NaN    150.000000    NaN   \n",
      "max            NaN         9999.000000      NaN  17700.000000    NaN   \n",
      "\n",
      "         odometer  monthOfRegistration fuelType       brand notRepairedDamage  \\\n",
      "count       50000         50000.000000    45518       50000             40171   \n",
      "unique         13                  NaN        7          40                 2   \n",
      "top     150,000km                  NaN   benzin  volkswagen              nein   \n",
      "freq        32424                  NaN    30107       10687             35232   \n",
      "mean          NaN             5.723360      NaN         NaN               NaN   \n",
      "std           NaN             3.711984      NaN         NaN               NaN   \n",
      "min           NaN             0.000000      NaN         NaN               NaN   \n",
      "25%           NaN             3.000000      NaN         NaN               NaN   \n",
      "50%           NaN             6.000000      NaN         NaN               NaN   \n",
      "75%           NaN             9.000000      NaN         NaN               NaN   \n",
      "max           NaN            12.000000      NaN         NaN               NaN   \n",
      "\n",
      "                dateCreated  nrOfPictures    postalCode             lastSeen  \n",
      "count                 50000       50000.0  50000.000000                50000  \n",
      "unique                   76           NaN           NaN                39481  \n",
      "top     2016-04-03 00:00:00           NaN           NaN  2016-04-07 06:17:27  \n",
      "freq                   1946           NaN           NaN                    8  \n",
      "mean                    NaN           0.0  50813.627300                  NaN  \n",
      "std                     NaN           0.0  25779.747957                  NaN  \n",
      "min                     NaN           0.0   1067.000000                  NaN  \n",
      "25%                     NaN           0.0  30451.000000                  NaN  \n",
      "50%                     NaN           0.0  49577.000000                  NaN  \n",
      "75%                     NaN           0.0  71540.000000                  NaN  \n",
      "max                     NaN           0.0  99998.000000                  NaN  \n"
     ]
    }
   ],
   "source": [
    "print(autos.describe(include='all')) # Include non-numeric columns"
   ]
  },
  {
   "cell_type": "markdown",
   "metadata": {},
   "source": [
    "From my Observations we see that there are a few columns with null values. Let's get a list of those columns."
   ]
  },
  {
   "cell_type": "code",
   "execution_count": 48,
   "metadata": {
    "collapsed": false,
    "jupyter": {
     "outputs_hidden": false
    }
   },
   "outputs": [
    {
     "data": {
      "text/plain": [
       "dateCrawled               0\n",
       "name                      0\n",
       "seller                    0\n",
       "offerType                 0\n",
       "price                     0\n",
       "abtest                    0\n",
       "vehicleType            5095\n",
       "yearOfRegistration        0\n",
       "gearbox                2680\n",
       "powerPS                   0\n",
       "model                  2758\n",
       "odometer                  0\n",
       "monthOfRegistration       0\n",
       "fuelType               4482\n",
       "brand                     0\n",
       "notRepairedDamage      9829\n",
       "dateCreated               0\n",
       "nrOfPictures              0\n",
       "postalCode                0\n",
       "lastSeen                  0\n",
       "dtype: int64"
      ]
     },
     "execution_count": 48,
     "metadata": {},
     "output_type": "execute_result"
    }
   ],
   "source": [
    "autos.isnull().sum()"
   ]
  },
  {
   "cell_type": "markdown",
   "metadata": {},
   "source": [
    "### Modifying Column Names For Easier Programmability"
   ]
  },
  {
   "cell_type": "markdown",
   "metadata": {},
   "source": [
    "Since all the column names are in camelCase, we'll try to convert those column names into snake_case - something a bit more programmatic."
   ]
  },
  {
   "cell_type": "code",
   "execution_count": 49,
   "metadata": {
    "collapsed": false,
    "jupyter": {
     "outputs_hidden": false
    }
   },
   "outputs": [
    {
     "name": "stdout",
     "output_type": "stream",
     "text": [
      "Index(['dateCrawled', 'name', 'seller', 'offerType', 'price', 'abtest',\n",
      "       'vehicleType', 'yearOfRegistration', 'gearbox', 'powerPS', 'model',\n",
      "       'odometer', 'monthOfRegistration', 'fuelType', 'brand',\n",
      "       'notRepairedDamage', 'dateCreated', 'nrOfPictures', 'postalCode',\n",
      "       'lastSeen'],\n",
      "      dtype='object')\n"
     ]
    }
   ],
   "source": [
    "columns = autos.columns\n",
    "print(columns)"
   ]
  },
  {
   "cell_type": "markdown",
   "metadata": {},
   "source": [
    "Now I'm lazy so I'm just gonna programmatically do it by defining a function `camel_to_snake()`"
   ]
  },
  {
   "cell_type": "code",
   "execution_count": 50,
   "metadata": {},
   "outputs": [],
   "source": [
    "\n",
    "def camel_to_snake(s):\n",
    "    st =[]\n",
    "    for i in s:\n",
    "        if i.islower():\n",
    "            st.append(i)\n",
    "        elif i.isupper():\n",
    "            i = '_{}'.format(i.lower())\n",
    "            st.append(i)\n",
    "     \n",
    "    return ''.join(st)\n",
    "    "
   ]
  },
  {
   "cell_type": "markdown",
   "metadata": {},
   "source": [
    "Now convert the columns"
   ]
  },
  {
   "cell_type": "code",
   "execution_count": 51,
   "metadata": {
    "collapsed": false,
    "jupyter": {
     "outputs_hidden": false
    }
   },
   "outputs": [
    {
     "name": "stdout",
     "output_type": "stream",
     "text": [
      "['date_crawled', 'name', 'seller', 'offer_type', 'price', 'abtest', 'vehicle_type', 'year_of_registration', 'gearbox', 'power_p_s', 'model', 'odometer', 'month_of_registration', 'fuel_type', 'brand', 'not_repaired_damage', 'date_created', 'nr_of_pictures', 'postal_code', 'last_seen']\n"
     ]
    }
   ],
   "source": [
    "new_cols= []\n",
    "for c in columns:\n",
    "    new_cols.append(camel_to_snake(c))\n",
    "\n",
    "# Verify\n",
    "print(new_cols)"
   ]
  },
  {
   "cell_type": "markdown",
   "metadata": {},
   "source": [
    "Et voila. Now to assign to the dataframe"
   ]
  },
  {
   "cell_type": "code",
   "execution_count": 52,
   "metadata": {
    "collapsed": false,
    "jupyter": {
     "outputs_hidden": false
    }
   },
   "outputs": [
    {
     "data": {
      "text/html": [
       "<div>\n",
       "<style scoped>\n",
       "    .dataframe tbody tr th:only-of-type {\n",
       "        vertical-align: middle;\n",
       "    }\n",
       "\n",
       "    .dataframe tbody tr th {\n",
       "        vertical-align: top;\n",
       "    }\n",
       "\n",
       "    .dataframe thead th {\n",
       "        text-align: right;\n",
       "    }\n",
       "</style>\n",
       "<table border=\"1\" class=\"dataframe\">\n",
       "  <thead>\n",
       "    <tr style=\"text-align: right;\">\n",
       "      <th></th>\n",
       "      <th>date_crawled</th>\n",
       "      <th>name</th>\n",
       "      <th>seller</th>\n",
       "      <th>offer_type</th>\n",
       "      <th>price</th>\n",
       "      <th>abtest</th>\n",
       "      <th>vehicle_type</th>\n",
       "      <th>year_of_registration</th>\n",
       "      <th>gearbox</th>\n",
       "      <th>power_p_s</th>\n",
       "      <th>model</th>\n",
       "      <th>odometer</th>\n",
       "      <th>month_of_registration</th>\n",
       "      <th>fuel_type</th>\n",
       "      <th>brand</th>\n",
       "      <th>not_repaired_damage</th>\n",
       "      <th>date_created</th>\n",
       "      <th>nr_of_pictures</th>\n",
       "      <th>postal_code</th>\n",
       "      <th>last_seen</th>\n",
       "    </tr>\n",
       "  </thead>\n",
       "  <tbody>\n",
       "    <tr>\n",
       "      <th>0</th>\n",
       "      <td>2016-03-26 17:47:46</td>\n",
       "      <td>Peugeot_807_160_NAVTECH_ON_BOARD</td>\n",
       "      <td>privat</td>\n",
       "      <td>Angebot</td>\n",
       "      <td>$5,000</td>\n",
       "      <td>control</td>\n",
       "      <td>bus</td>\n",
       "      <td>2004</td>\n",
       "      <td>manuell</td>\n",
       "      <td>158</td>\n",
       "      <td>andere</td>\n",
       "      <td>150,000km</td>\n",
       "      <td>3</td>\n",
       "      <td>lpg</td>\n",
       "      <td>peugeot</td>\n",
       "      <td>nein</td>\n",
       "      <td>2016-03-26 00:00:00</td>\n",
       "      <td>0</td>\n",
       "      <td>79588</td>\n",
       "      <td>2016-04-06 06:45:54</td>\n",
       "    </tr>\n",
       "    <tr>\n",
       "      <th>1</th>\n",
       "      <td>2016-04-04 13:38:56</td>\n",
       "      <td>BMW_740i_4_4_Liter_HAMANN_UMBAU_Mega_Optik</td>\n",
       "      <td>privat</td>\n",
       "      <td>Angebot</td>\n",
       "      <td>$8,500</td>\n",
       "      <td>control</td>\n",
       "      <td>limousine</td>\n",
       "      <td>1997</td>\n",
       "      <td>automatik</td>\n",
       "      <td>286</td>\n",
       "      <td>7er</td>\n",
       "      <td>150,000km</td>\n",
       "      <td>6</td>\n",
       "      <td>benzin</td>\n",
       "      <td>bmw</td>\n",
       "      <td>nein</td>\n",
       "      <td>2016-04-04 00:00:00</td>\n",
       "      <td>0</td>\n",
       "      <td>71034</td>\n",
       "      <td>2016-04-06 14:45:08</td>\n",
       "    </tr>\n",
       "    <tr>\n",
       "      <th>2</th>\n",
       "      <td>2016-03-26 18:57:24</td>\n",
       "      <td>Volkswagen_Golf_1.6_United</td>\n",
       "      <td>privat</td>\n",
       "      <td>Angebot</td>\n",
       "      <td>$8,990</td>\n",
       "      <td>test</td>\n",
       "      <td>limousine</td>\n",
       "      <td>2009</td>\n",
       "      <td>manuell</td>\n",
       "      <td>102</td>\n",
       "      <td>golf</td>\n",
       "      <td>70,000km</td>\n",
       "      <td>7</td>\n",
       "      <td>benzin</td>\n",
       "      <td>volkswagen</td>\n",
       "      <td>nein</td>\n",
       "      <td>2016-03-26 00:00:00</td>\n",
       "      <td>0</td>\n",
       "      <td>35394</td>\n",
       "      <td>2016-04-06 20:15:37</td>\n",
       "    </tr>\n",
       "  </tbody>\n",
       "</table>\n",
       "</div>"
      ],
      "text/plain": [
       "          date_crawled                                        name  seller  \\\n",
       "0  2016-03-26 17:47:46            Peugeot_807_160_NAVTECH_ON_BOARD  privat   \n",
       "1  2016-04-04 13:38:56  BMW_740i_4_4_Liter_HAMANN_UMBAU_Mega_Optik  privat   \n",
       "2  2016-03-26 18:57:24                  Volkswagen_Golf_1.6_United  privat   \n",
       "\n",
       "  offer_type   price   abtest vehicle_type  year_of_registration    gearbox  \\\n",
       "0    Angebot  $5,000  control          bus                  2004    manuell   \n",
       "1    Angebot  $8,500  control    limousine                  1997  automatik   \n",
       "2    Angebot  $8,990     test    limousine                  2009    manuell   \n",
       "\n",
       "   power_p_s   model   odometer  month_of_registration fuel_type       brand  \\\n",
       "0        158  andere  150,000km                      3       lpg     peugeot   \n",
       "1        286     7er  150,000km                      6    benzin         bmw   \n",
       "2        102    golf   70,000km                      7    benzin  volkswagen   \n",
       "\n",
       "  not_repaired_damage         date_created  nr_of_pictures  postal_code  \\\n",
       "0                nein  2016-03-26 00:00:00               0        79588   \n",
       "1                nein  2016-04-04 00:00:00               0        71034   \n",
       "2                nein  2016-03-26 00:00:00               0        35394   \n",
       "\n",
       "             last_seen  \n",
       "0  2016-04-06 06:45:54  \n",
       "1  2016-04-06 14:45:08  \n",
       "2  2016-04-06 20:15:37  "
      ]
     },
     "execution_count": 52,
     "metadata": {},
     "output_type": "execute_result"
    }
   ],
   "source": [
    "autos.columns = new_cols\n",
    "\n",
    "# If you want a one-liner\n",
    "# autos.columns = [ camel_to_snake(c) for c in autos.columns ]\n",
    "\n",
    "autos.head(3)\n"
   ]
  },
  {
   "cell_type": "markdown",
   "metadata": {},
   "source": [
    "Now that that's done, perhaps we could still change a few of those columns as some of them are still *too wordy* still too vague. We elected to change `month_of_registration`, `year_of_registration`, and `date_created` and rename them to `registration_month`, `registration_year`, and `ad_created` respectively. Instead of going through the whole process of rename the columns again, we're going to use the `df.rename()` method"
   ]
  },
  {
   "cell_type": "code",
   "execution_count": 53,
   "metadata": {},
   "outputs": [],
   "source": [
    "autos.rename({'month_of_registration' : 'registration_month',\n",
    "             'year_of_registration' : 'registration_year',\n",
    "             'date_created' : 'ad_created'},axis=1,inplace=True)"
   ]
  },
  {
   "cell_type": "markdown",
   "metadata": {},
   "source": [
    "I could have done it manually, which would would allow you to carefully inspect each entry, but for larger tables(and tight deadlines), would take longer. The defined function has undergone a few tests(although, admittedly, not thouroughly) and functions fine.\n",
    "\n",
    "Additionally, the whole point of defining a function is re-usability. If in the future if we need to rename a label or an item, we can use this function."
   ]
  },
  {
   "cell_type": "markdown",
   "metadata": {},
   "source": [
    "Now that we got the column names sorted out, let's do a bit of initial exploration. Note, we had seen a few rows that may contain `null` values, but that's for a later step."
   ]
  },
  {
   "cell_type": "code",
   "execution_count": 54,
   "metadata": {
    "collapsed": false,
    "jupyter": {
     "outputs_hidden": false
    }
   },
   "outputs": [
    {
     "data": {
      "text/html": [
       "<div>\n",
       "<style scoped>\n",
       "    .dataframe tbody tr th:only-of-type {\n",
       "        vertical-align: middle;\n",
       "    }\n",
       "\n",
       "    .dataframe tbody tr th {\n",
       "        vertical-align: top;\n",
       "    }\n",
       "\n",
       "    .dataframe thead th {\n",
       "        text-align: right;\n",
       "    }\n",
       "</style>\n",
       "<table border=\"1\" class=\"dataframe\">\n",
       "  <thead>\n",
       "    <tr style=\"text-align: right;\">\n",
       "      <th></th>\n",
       "      <th>date_crawled</th>\n",
       "      <th>name</th>\n",
       "      <th>seller</th>\n",
       "      <th>offer_type</th>\n",
       "      <th>price</th>\n",
       "      <th>abtest</th>\n",
       "      <th>vehicle_type</th>\n",
       "      <th>registration_year</th>\n",
       "      <th>gearbox</th>\n",
       "      <th>power_p_s</th>\n",
       "      <th>model</th>\n",
       "      <th>odometer</th>\n",
       "      <th>registration_month</th>\n",
       "      <th>fuel_type</th>\n",
       "      <th>brand</th>\n",
       "      <th>not_repaired_damage</th>\n",
       "      <th>ad_created</th>\n",
       "      <th>nr_of_pictures</th>\n",
       "      <th>postal_code</th>\n",
       "      <th>last_seen</th>\n",
       "    </tr>\n",
       "  </thead>\n",
       "  <tbody>\n",
       "    <tr>\n",
       "      <th>count</th>\n",
       "      <td>50000</td>\n",
       "      <td>50000</td>\n",
       "      <td>50000</td>\n",
       "      <td>50000</td>\n",
       "      <td>50000</td>\n",
       "      <td>50000</td>\n",
       "      <td>44905</td>\n",
       "      <td>50000.000000</td>\n",
       "      <td>47320</td>\n",
       "      <td>50000.000000</td>\n",
       "      <td>47242</td>\n",
       "      <td>50000</td>\n",
       "      <td>50000.000000</td>\n",
       "      <td>45518</td>\n",
       "      <td>50000</td>\n",
       "      <td>40171</td>\n",
       "      <td>50000</td>\n",
       "      <td>50000.0</td>\n",
       "      <td>50000.000000</td>\n",
       "      <td>50000</td>\n",
       "    </tr>\n",
       "    <tr>\n",
       "      <th>unique</th>\n",
       "      <td>48213</td>\n",
       "      <td>38754</td>\n",
       "      <td>2</td>\n",
       "      <td>2</td>\n",
       "      <td>2357</td>\n",
       "      <td>2</td>\n",
       "      <td>8</td>\n",
       "      <td>NaN</td>\n",
       "      <td>2</td>\n",
       "      <td>NaN</td>\n",
       "      <td>245</td>\n",
       "      <td>13</td>\n",
       "      <td>NaN</td>\n",
       "      <td>7</td>\n",
       "      <td>40</td>\n",
       "      <td>2</td>\n",
       "      <td>76</td>\n",
       "      <td>NaN</td>\n",
       "      <td>NaN</td>\n",
       "      <td>39481</td>\n",
       "    </tr>\n",
       "    <tr>\n",
       "      <th>top</th>\n",
       "      <td>2016-03-19 17:36:18</td>\n",
       "      <td>Ford_Fiesta</td>\n",
       "      <td>privat</td>\n",
       "      <td>Angebot</td>\n",
       "      <td>$0</td>\n",
       "      <td>test</td>\n",
       "      <td>limousine</td>\n",
       "      <td>NaN</td>\n",
       "      <td>manuell</td>\n",
       "      <td>NaN</td>\n",
       "      <td>golf</td>\n",
       "      <td>150,000km</td>\n",
       "      <td>NaN</td>\n",
       "      <td>benzin</td>\n",
       "      <td>volkswagen</td>\n",
       "      <td>nein</td>\n",
       "      <td>2016-04-03 00:00:00</td>\n",
       "      <td>NaN</td>\n",
       "      <td>NaN</td>\n",
       "      <td>2016-04-07 06:17:27</td>\n",
       "    </tr>\n",
       "    <tr>\n",
       "      <th>freq</th>\n",
       "      <td>3</td>\n",
       "      <td>78</td>\n",
       "      <td>49999</td>\n",
       "      <td>49999</td>\n",
       "      <td>1421</td>\n",
       "      <td>25756</td>\n",
       "      <td>12859</td>\n",
       "      <td>NaN</td>\n",
       "      <td>36993</td>\n",
       "      <td>NaN</td>\n",
       "      <td>4024</td>\n",
       "      <td>32424</td>\n",
       "      <td>NaN</td>\n",
       "      <td>30107</td>\n",
       "      <td>10687</td>\n",
       "      <td>35232</td>\n",
       "      <td>1946</td>\n",
       "      <td>NaN</td>\n",
       "      <td>NaN</td>\n",
       "      <td>8</td>\n",
       "    </tr>\n",
       "    <tr>\n",
       "      <th>mean</th>\n",
       "      <td>NaN</td>\n",
       "      <td>NaN</td>\n",
       "      <td>NaN</td>\n",
       "      <td>NaN</td>\n",
       "      <td>NaN</td>\n",
       "      <td>NaN</td>\n",
       "      <td>NaN</td>\n",
       "      <td>2005.073280</td>\n",
       "      <td>NaN</td>\n",
       "      <td>116.355920</td>\n",
       "      <td>NaN</td>\n",
       "      <td>NaN</td>\n",
       "      <td>5.723360</td>\n",
       "      <td>NaN</td>\n",
       "      <td>NaN</td>\n",
       "      <td>NaN</td>\n",
       "      <td>NaN</td>\n",
       "      <td>0.0</td>\n",
       "      <td>50813.627300</td>\n",
       "      <td>NaN</td>\n",
       "    </tr>\n",
       "    <tr>\n",
       "      <th>std</th>\n",
       "      <td>NaN</td>\n",
       "      <td>NaN</td>\n",
       "      <td>NaN</td>\n",
       "      <td>NaN</td>\n",
       "      <td>NaN</td>\n",
       "      <td>NaN</td>\n",
       "      <td>NaN</td>\n",
       "      <td>105.712813</td>\n",
       "      <td>NaN</td>\n",
       "      <td>209.216627</td>\n",
       "      <td>NaN</td>\n",
       "      <td>NaN</td>\n",
       "      <td>3.711984</td>\n",
       "      <td>NaN</td>\n",
       "      <td>NaN</td>\n",
       "      <td>NaN</td>\n",
       "      <td>NaN</td>\n",
       "      <td>0.0</td>\n",
       "      <td>25779.747957</td>\n",
       "      <td>NaN</td>\n",
       "    </tr>\n",
       "    <tr>\n",
       "      <th>min</th>\n",
       "      <td>NaN</td>\n",
       "      <td>NaN</td>\n",
       "      <td>NaN</td>\n",
       "      <td>NaN</td>\n",
       "      <td>NaN</td>\n",
       "      <td>NaN</td>\n",
       "      <td>NaN</td>\n",
       "      <td>1000.000000</td>\n",
       "      <td>NaN</td>\n",
       "      <td>0.000000</td>\n",
       "      <td>NaN</td>\n",
       "      <td>NaN</td>\n",
       "      <td>0.000000</td>\n",
       "      <td>NaN</td>\n",
       "      <td>NaN</td>\n",
       "      <td>NaN</td>\n",
       "      <td>NaN</td>\n",
       "      <td>0.0</td>\n",
       "      <td>1067.000000</td>\n",
       "      <td>NaN</td>\n",
       "    </tr>\n",
       "    <tr>\n",
       "      <th>25%</th>\n",
       "      <td>NaN</td>\n",
       "      <td>NaN</td>\n",
       "      <td>NaN</td>\n",
       "      <td>NaN</td>\n",
       "      <td>NaN</td>\n",
       "      <td>NaN</td>\n",
       "      <td>NaN</td>\n",
       "      <td>1999.000000</td>\n",
       "      <td>NaN</td>\n",
       "      <td>70.000000</td>\n",
       "      <td>NaN</td>\n",
       "      <td>NaN</td>\n",
       "      <td>3.000000</td>\n",
       "      <td>NaN</td>\n",
       "      <td>NaN</td>\n",
       "      <td>NaN</td>\n",
       "      <td>NaN</td>\n",
       "      <td>0.0</td>\n",
       "      <td>30451.000000</td>\n",
       "      <td>NaN</td>\n",
       "    </tr>\n",
       "    <tr>\n",
       "      <th>50%</th>\n",
       "      <td>NaN</td>\n",
       "      <td>NaN</td>\n",
       "      <td>NaN</td>\n",
       "      <td>NaN</td>\n",
       "      <td>NaN</td>\n",
       "      <td>NaN</td>\n",
       "      <td>NaN</td>\n",
       "      <td>2003.000000</td>\n",
       "      <td>NaN</td>\n",
       "      <td>105.000000</td>\n",
       "      <td>NaN</td>\n",
       "      <td>NaN</td>\n",
       "      <td>6.000000</td>\n",
       "      <td>NaN</td>\n",
       "      <td>NaN</td>\n",
       "      <td>NaN</td>\n",
       "      <td>NaN</td>\n",
       "      <td>0.0</td>\n",
       "      <td>49577.000000</td>\n",
       "      <td>NaN</td>\n",
       "    </tr>\n",
       "    <tr>\n",
       "      <th>75%</th>\n",
       "      <td>NaN</td>\n",
       "      <td>NaN</td>\n",
       "      <td>NaN</td>\n",
       "      <td>NaN</td>\n",
       "      <td>NaN</td>\n",
       "      <td>NaN</td>\n",
       "      <td>NaN</td>\n",
       "      <td>2008.000000</td>\n",
       "      <td>NaN</td>\n",
       "      <td>150.000000</td>\n",
       "      <td>NaN</td>\n",
       "      <td>NaN</td>\n",
       "      <td>9.000000</td>\n",
       "      <td>NaN</td>\n",
       "      <td>NaN</td>\n",
       "      <td>NaN</td>\n",
       "      <td>NaN</td>\n",
       "      <td>0.0</td>\n",
       "      <td>71540.000000</td>\n",
       "      <td>NaN</td>\n",
       "    </tr>\n",
       "    <tr>\n",
       "      <th>max</th>\n",
       "      <td>NaN</td>\n",
       "      <td>NaN</td>\n",
       "      <td>NaN</td>\n",
       "      <td>NaN</td>\n",
       "      <td>NaN</td>\n",
       "      <td>NaN</td>\n",
       "      <td>NaN</td>\n",
       "      <td>9999.000000</td>\n",
       "      <td>NaN</td>\n",
       "      <td>17700.000000</td>\n",
       "      <td>NaN</td>\n",
       "      <td>NaN</td>\n",
       "      <td>12.000000</td>\n",
       "      <td>NaN</td>\n",
       "      <td>NaN</td>\n",
       "      <td>NaN</td>\n",
       "      <td>NaN</td>\n",
       "      <td>0.0</td>\n",
       "      <td>99998.000000</td>\n",
       "      <td>NaN</td>\n",
       "    </tr>\n",
       "  </tbody>\n",
       "</table>\n",
       "</div>"
      ],
      "text/plain": [
       "               date_crawled         name  seller offer_type  price abtest  \\\n",
       "count                 50000        50000   50000      50000  50000  50000   \n",
       "unique                48213        38754       2          2   2357      2   \n",
       "top     2016-03-19 17:36:18  Ford_Fiesta  privat    Angebot     $0   test   \n",
       "freq                      3           78   49999      49999   1421  25756   \n",
       "mean                    NaN          NaN     NaN        NaN    NaN    NaN   \n",
       "std                     NaN          NaN     NaN        NaN    NaN    NaN   \n",
       "min                     NaN          NaN     NaN        NaN    NaN    NaN   \n",
       "25%                     NaN          NaN     NaN        NaN    NaN    NaN   \n",
       "50%                     NaN          NaN     NaN        NaN    NaN    NaN   \n",
       "75%                     NaN          NaN     NaN        NaN    NaN    NaN   \n",
       "max                     NaN          NaN     NaN        NaN    NaN    NaN   \n",
       "\n",
       "       vehicle_type  registration_year  gearbox     power_p_s  model  \\\n",
       "count         44905       50000.000000    47320  50000.000000  47242   \n",
       "unique            8                NaN        2           NaN    245   \n",
       "top       limousine                NaN  manuell           NaN   golf   \n",
       "freq          12859                NaN    36993           NaN   4024   \n",
       "mean            NaN        2005.073280      NaN    116.355920    NaN   \n",
       "std             NaN         105.712813      NaN    209.216627    NaN   \n",
       "min             NaN        1000.000000      NaN      0.000000    NaN   \n",
       "25%             NaN        1999.000000      NaN     70.000000    NaN   \n",
       "50%             NaN        2003.000000      NaN    105.000000    NaN   \n",
       "75%             NaN        2008.000000      NaN    150.000000    NaN   \n",
       "max             NaN        9999.000000      NaN  17700.000000    NaN   \n",
       "\n",
       "         odometer  registration_month fuel_type       brand  \\\n",
       "count       50000        50000.000000     45518       50000   \n",
       "unique         13                 NaN         7          40   \n",
       "top     150,000km                 NaN    benzin  volkswagen   \n",
       "freq        32424                 NaN     30107       10687   \n",
       "mean          NaN            5.723360       NaN         NaN   \n",
       "std           NaN            3.711984       NaN         NaN   \n",
       "min           NaN            0.000000       NaN         NaN   \n",
       "25%           NaN            3.000000       NaN         NaN   \n",
       "50%           NaN            6.000000       NaN         NaN   \n",
       "75%           NaN            9.000000       NaN         NaN   \n",
       "max           NaN           12.000000       NaN         NaN   \n",
       "\n",
       "       not_repaired_damage           ad_created  nr_of_pictures   postal_code  \\\n",
       "count                40171                50000         50000.0  50000.000000   \n",
       "unique                   2                   76             NaN           NaN   \n",
       "top                   nein  2016-04-03 00:00:00             NaN           NaN   \n",
       "freq                 35232                 1946             NaN           NaN   \n",
       "mean                   NaN                  NaN             0.0  50813.627300   \n",
       "std                    NaN                  NaN             0.0  25779.747957   \n",
       "min                    NaN                  NaN             0.0   1067.000000   \n",
       "25%                    NaN                  NaN             0.0  30451.000000   \n",
       "50%                    NaN                  NaN             0.0  49577.000000   \n",
       "75%                    NaN                  NaN             0.0  71540.000000   \n",
       "max                    NaN                  NaN             0.0  99998.000000   \n",
       "\n",
       "                  last_seen  \n",
       "count                 50000  \n",
       "unique                39481  \n",
       "top     2016-04-07 06:17:27  \n",
       "freq                      8  \n",
       "mean                    NaN  \n",
       "std                     NaN  \n",
       "min                     NaN  \n",
       "25%                     NaN  \n",
       "50%                     NaN  \n",
       "75%                     NaN  \n",
       "max                     NaN  "
      ]
     },
     "execution_count": 54,
     "metadata": {},
     "output_type": "execute_result"
    }
   ],
   "source": [
    "# Initial exploration\n",
    "\n",
    "autos.describe(include='all')"
   ]
  },
  {
   "cell_type": "markdown",
   "metadata": {},
   "source": [
    "### Dropping Unnecessary Columns\n",
    "\n",
    "There are a lot of observations that have `NaN` values but before we get to that we'll look at the other data first.\n",
    "\n",
    "I wanted to find out if there are any columns which have at most one value. `df.describe()` doesn't always say a lot so I figured I'd dive a bit deeper. I'm looking at the `unique` row and I see that there are a few columns with only 2 unique values and one that's `NaN`. The reason why I wanted to check those with 2 unique values is that, there's a chance that the other value is a `NaN`. Again, I'm lazy, so I created a loop to programmatically check the unique values on columns with unique values less than or equal to 2."
   ]
  },
  {
   "cell_type": "code",
   "execution_count": 55,
   "metadata": {
    "collapsed": false,
    "jupyter": {
     "outputs_hidden": false
    }
   },
   "outputs": [
    {
     "name": "stdout",
     "output_type": "stream",
     "text": [
      "seller: ['privat' 'gewerblich']\n",
      "offer_type: ['Angebot' 'Gesuch']\n",
      "abtest: ['control' 'test']\n",
      "nr_of_pictures: [0]\n"
     ]
    }
   ],
   "source": [
    "for i in [ c for c in autos.columns if len(autos[c].unique()) <= 2  ]:\n",
    "    \n",
    "    print(\"{}: {}\".format(i,autos[i].unique()))\n",
    "\n"
   ]
  },
  {
   "cell_type": "markdown",
   "metadata": {
    "jupyter": {
     "outputs_hidden": true
    }
   },
   "source": [
    "We see the column `nr_of_pictures` only has a unique value of 0. Before we drop it, we just want to take a look at a sample of the data that it contains."
   ]
  },
  {
   "cell_type": "code",
   "execution_count": 56,
   "metadata": {},
   "outputs": [
    {
     "data": {
      "text/plain": [
       "0    50000\n",
       "Name: nr_of_pictures, dtype: int64"
      ]
     },
     "execution_count": 56,
     "metadata": {},
     "output_type": "execute_result"
    }
   ],
   "source": [
    "autos.nr_of_pictures.value_counts(dropna=False)"
   ]
  },
  {
   "cell_type": "markdown",
   "metadata": {},
   "source": [
    "We see that it's just all zeros so it won't make a difference if we dropped this column. Let's do that now"
   ]
  },
  {
   "cell_type": "code",
   "execution_count": 57,
   "metadata": {},
   "outputs": [
    {
     "name": "stdout",
     "output_type": "stream",
     "text": [
      "Index(['date_crawled', 'name', 'seller', 'offer_type', 'price', 'abtest',\n",
      "       'vehicle_type', 'registration_year', 'gearbox', 'power_p_s', 'model',\n",
      "       'odometer', 'registration_month', 'fuel_type', 'brand',\n",
      "       'not_repaired_damage', 'ad_created', 'postal_code', 'last_seen'],\n",
      "      dtype='object')\n"
     ]
    }
   ],
   "source": [
    "autos = autos.drop('nr_of_pictures', axis=1)\n",
    "\n",
    "# Verify\n",
    "print(autos.columns)"
   ]
  },
  {
   "cell_type": "markdown",
   "metadata": {},
   "source": [
    "### Converting String-type columns to Numeric\n",
    "\n",
    "Now for numeric data stored as strings, the `price` and `odometer` columns stand out. Just a quick peek at the values in these columns before we proceed."
   ]
  },
  {
   "cell_type": "code",
   "execution_count": 58,
   "metadata": {},
   "outputs": [
    {
     "name": "stdout",
     "output_type": "stream",
     "text": [
      "0    $5,000\n",
      "1    $8,500\n",
      "2    $8,990\n",
      "3    $4,350\n",
      "4    $1,350\n",
      "Name: price, dtype: object\n",
      "0    150,000km\n",
      "1    150,000km\n",
      "2     70,000km\n",
      "3     70,000km\n",
      "4    150,000km\n",
      "Name: odometer, dtype: object\n"
     ]
    }
   ],
   "source": [
    "print(autos.price.head())\n",
    "print(autos.odometer.head())"
   ]
  },
  {
   "cell_type": "code",
   "execution_count": 59,
   "metadata": {},
   "outputs": [
    {
     "name": "stdout",
     "output_type": "stream",
     "text": [
      "False    50000\n",
      "Name: price, dtype: int64\n",
      "False    50000\n",
      "Name: odometer, dtype: int64\n"
     ]
    }
   ],
   "source": [
    "# Making sure there are no null values\n",
    "print(autos.price.isnull().value_counts())\n",
    "\n",
    "print(autos.odometer.isnull().value_counts())"
   ]
  },
  {
   "cell_type": "markdown",
   "metadata": {},
   "source": [
    "For both columns, we can omit the `,` commas. For `price`, remove the dollar sign, and for odometer, remove the km. But before we convert those, let's check whether the pattern is the same althroughout. But since there are 5000 rows, and doesn't seem to repeat as often, it is too much. Therefore, we can try casting removing what we have already found out and casting(to `int` type first). If it comes up with errors, then we can narrow down our search."
   ]
  },
  {
   "cell_type": "markdown",
   "metadata": {},
   "source": [
    "Before we proceed with the operation, it's safe to assign the contents of the column first into a variable before we do any modifications. Otherwise, if we mess up we'll have to go through the process of importing the csv, etc."
   ]
  },
  {
   "cell_type": "code",
   "execution_count": 60,
   "metadata": {},
   "outputs": [],
   "source": [
    "# for price, we store it in a variable called price\n",
    "price = autos.price.copy()\n",
    "\n",
    "# let's use the str accessor to modify the values in the row, using str.replace() and str.strip()\n",
    "# We use str.strip(), without any parameters, to strip the leading, and trailing whitespaces, if there are any\n",
    "\n",
    "new_price = price.str.strip().str.replace('$','').str.replace(',','').astype(int)"
   ]
  },
  {
   "cell_type": "markdown",
   "metadata": {},
   "source": [
    "Since, it looks like we don't have an casting error. It means that all values should now be in `int`"
   ]
  },
  {
   "cell_type": "code",
   "execution_count": 61,
   "metadata": {},
   "outputs": [
    {
     "name": "stdout",
     "output_type": "stream",
     "text": [
      "count    5.000000e+04\n",
      "mean     9.840044e+03\n",
      "std      4.811044e+05\n",
      "min      0.000000e+00\n",
      "25%      1.100000e+03\n",
      "50%      2.950000e+03\n",
      "75%      7.200000e+03\n",
      "max      1.000000e+08\n",
      "Name: price, dtype: float64\n",
      "0    5000\n",
      "1    8500\n",
      "2    8990\n",
      "3    4350\n",
      "4    1350\n",
      "Name: price, dtype: int32\n"
     ]
    }
   ],
   "source": [
    "print(new_price.describe())\n",
    "print(new_price.head())"
   ]
  },
  {
   "cell_type": "markdown",
   "metadata": {},
   "source": [
    "Let's do the same for `odometer`"
   ]
  },
  {
   "cell_type": "code",
   "execution_count": 62,
   "metadata": {},
   "outputs": [],
   "source": [
    "# let's copy to a new variable, odometer\n",
    "odometer = autos.odometer.copy()\n",
    "\n",
    "new_odometer = odometer.str.strip().str.replace('km','').str.replace(',','').astype(int)"
   ]
  },
  {
   "cell_type": "code",
   "execution_count": 63,
   "metadata": {},
   "outputs": [
    {
     "name": "stdout",
     "output_type": "stream",
     "text": [
      "count     50000.000000\n",
      "mean     125732.700000\n",
      "std       40042.211706\n",
      "min        5000.000000\n",
      "25%      125000.000000\n",
      "50%      150000.000000\n",
      "75%      150000.000000\n",
      "max      150000.000000\n",
      "Name: odometer, dtype: float64\n",
      "0    150000\n",
      "1    150000\n",
      "2     70000\n",
      "3     70000\n",
      "4    150000\n",
      "Name: odometer, dtype: int32\n"
     ]
    }
   ],
   "source": [
    "# again, it's always good to verify\n",
    "\n",
    "print(new_odometer.describe())\n",
    "print(new_odometer.head())"
   ]
  },
  {
   "cell_type": "markdown",
   "metadata": {},
   "source": [
    "Again, no errors, so it looks clear. Now we just assign these new values to their respective columns"
   ]
  },
  {
   "cell_type": "code",
   "execution_count": 64,
   "metadata": {},
   "outputs": [],
   "source": [
    "autos['price'] = new_price\n",
    "autos['odometer'] = new_odometer"
   ]
  },
  {
   "cell_type": "markdown",
   "metadata": {},
   "source": [
    "Finally, we need to rename these columns to be a lot more descriptive of their values. `price` is to be renamed `price_dollars` whereas `odometer` is to be renamed `odometer_km`"
   ]
  },
  {
   "cell_type": "code",
   "execution_count": 65,
   "metadata": {},
   "outputs": [
    {
     "name": "stdout",
     "output_type": "stream",
     "text": [
      "date_crawled           object\n",
      "name                   object\n",
      "seller                 object\n",
      "offer_type             object\n",
      "price_dollars           int32\n",
      "abtest                 object\n",
      "vehicle_type           object\n",
      "registration_year       int64\n",
      "gearbox                object\n",
      "power_p_s               int64\n",
      "model                  object\n",
      "odometer_km             int32\n",
      "registration_month      int64\n",
      "fuel_type              object\n",
      "brand                  object\n",
      "not_repaired_damage    object\n",
      "ad_created             object\n",
      "postal_code             int64\n",
      "last_seen              object\n",
      "dtype: object\n"
     ]
    }
   ],
   "source": [
    "# we use the df.rename() method to rename the columns, with inplace=True, and axis=1 options\n",
    "autos.rename({ 'price' : 'price_dollars',\n",
    "               'odometer' : 'odometer_km'}, inplace=True,axis=1)\n",
    "\n",
    "# verfiy change\n",
    "print(autos.dtypes)"
   ]
  },
  {
   "cell_type": "markdown",
   "metadata": {},
   "source": [
    "Now the data looks it can already be easily processed, but let's first check again those values, starting with `price_dollars`"
   ]
  },
  {
   "cell_type": "code",
   "execution_count": 66,
   "metadata": {},
   "outputs": [
    {
     "name": "stdout",
     "output_type": "stream",
     "text": [
      "count    5.000000e+04\n",
      "mean     9.840044e+03\n",
      "std      4.811044e+05\n",
      "min      0.000000e+00\n",
      "25%      1.100000e+03\n",
      "50%      2.950000e+03\n",
      "75%      7.200000e+03\n",
      "max      1.000000e+08\n",
      "Name: price_dollars, dtype: float64\n"
     ]
    }
   ],
   "source": [
    "print(autos.price_dollars.describe())"
   ]
  },
  {
   "cell_type": "markdown",
   "metadata": {},
   "source": [
    "### Removing Outliers\n",
    "\n",
    "Before data can be passed through statistic analysis, we need to make sure the data is accurate, otherwise it coult heavily skew the output.\n",
    "\n",
    "One method is by removing outliers. There are a few methods but we'll be using just the basic, which is weeding out inaccurate rows by defining the lower and upper boundaries for acceptable values.\n",
    "\n",
    "First, let's find the number of unique values"
   ]
  },
  {
   "cell_type": "code",
   "execution_count": 177,
   "metadata": {},
   "outputs": [
    {
     "name": "stdout",
     "output_type": "stream",
     "text": [
      "(2334,)\n"
     ]
    }
   ],
   "source": [
    "# Find the number of unique values\n",
    "print(autos.price_dollars.unique().shape)"
   ]
  },
  {
   "cell_type": "code",
   "execution_count": 178,
   "metadata": {},
   "outputs": [
    {
     "name": "stdout",
     "output_type": "stream",
     "text": [
      "0        1335\n",
      "500       757\n",
      "1500      696\n",
      "2500      614\n",
      "1200      606\n",
      "         ... \n",
      "28850       1\n",
      "16998       1\n",
      "2671        1\n",
      "27299       1\n",
      "84997       1\n",
      "Name: price_dollars, Length: 2334, dtype: int64\n"
     ]
    }
   ],
   "source": [
    "# Show value counts,sort descending\n",
    "print(autos.price_dollars.value_counts(ascending=False))"
   ]
  },
  {
   "cell_type": "code",
   "execution_count": 179,
   "metadata": {},
   "outputs": [
    {
     "name": "stdout",
     "output_type": "stream",
     "text": [
      "2500     614\n",
      "1500     696\n",
      "1200     606\n",
      "500      757\n",
      "0       1335\n",
      "Name: price_dollars, dtype: int64\n",
      "84997    1\n",
      "28850    1\n",
      "27299    1\n",
      "16998    1\n",
      "2671     1\n",
      "Name: price_dollars, dtype: int64\n",
      "              date_crawled                                               name  \\\n",
      "39705  2016-03-22 14:58:27                        Tausch_gegen_gleichwertiges   \n",
      "42221  2016-03-08 20:39:05                                  Leasinguebernahme   \n",
      "47598  2016-03-31 18:56:54  Opel_Vectra_B_1_6i_16V_Facelift_Tuning_Showcar...   \n",
      "24384  2016-03-21 13:57:51                            Schlachte_Golf_3_gt_tdi   \n",
      "2897   2016-03-12 21:50:57   Escort_MK_1_Hundeknochen_zum_umbauen_auf_RS_2000   \n",
      "11137  2016-03-29 23:52:57  suche_maserati_3200_gt_Zustand_unwichtig_laufe...   \n",
      "47634  2016-04-04 21:25:21                                        Ferrari_FXX   \n",
      "7814   2016-04-04 11:53:31                                        Ferrari_F40   \n",
      "22947  2016-03-22 12:54:19                         Bmw_530d_zum_ausschlachten   \n",
      "43049  2016-03-21 19:53:52                                      2_VW_Busse_T3   \n",
      "514    2016-03-17 09:53:08                   Ford_Focus_Turnier_1.6_16V_Style   \n",
      "37585  2016-03-29 11:38:54                                Volkswagen_Jetta_GT   \n",
      "36818  2016-03-27 18:37:37                                        Porsche_991   \n",
      "14715  2016-03-30 08:37:24                 Rolls_Royce_Phantom_Drophead_Coupe   \n",
      "34723  2016-03-23 16:37:29  Porsche_Porsche_911/930_Turbo_3.0__deutsche_Au...   \n",
      "35923  2016-04-03 07:56:23  Porsche_911_Targa_Exclusive_Edition__1_von_15_...   \n",
      "12682  2016-03-28 22:48:01  Porsche_GT3_RS__PCCB__Lift___grosser_Exklusiv_...   \n",
      "47337  2016-04-05 10:25:38                                    BMW_Z8_roadster   \n",
      "38299  2016-03-28 22:25:25                                Glas_BMW_mit_Wasser   \n",
      "37840  2016-03-21 10:50:12                                        Porsche_997   \n",
      "\n",
      "       seller offer_type  price_dollars   abtest vehicle_type  \\\n",
      "39705  privat    Angebot       99999999  control    limousine   \n",
      "42221  privat    Angebot       27322222  control    limousine   \n",
      "47598  privat    Angebot       12345678  control    limousine   \n",
      "24384  privat    Angebot       11111111     test          NaN   \n",
      "2897   privat    Angebot       11111111     test    limousine   \n",
      "11137  privat    Angebot       10000000  control        coupe   \n",
      "47634  privat    Angebot        3890000     test        coupe   \n",
      "7814   privat    Angebot        1300000  control        coupe   \n",
      "22947  privat    Angebot        1234566  control        kombi   \n",
      "43049  privat    Angebot         999999     test          bus   \n",
      "514    privat    Angebot         999999     test        kombi   \n",
      "37585  privat    Angebot         999990     test    limousine   \n",
      "36818  privat    Angebot         350000  control        coupe   \n",
      "14715  privat    Angebot         345000  control       cabrio   \n",
      "34723  privat    Angebot         299000     test        coupe   \n",
      "35923  privat    Angebot         295000     test       cabrio   \n",
      "12682  privat    Angebot         265000  control        coupe   \n",
      "47337  privat    Angebot         259000     test       cabrio   \n",
      "38299  privat    Angebot         250000     test          NaN   \n",
      "37840  privat    Angebot         220000     test        coupe   \n",
      "\n",
      "       registration_year    gearbox  power_p_s        model  odometer_km  \\\n",
      "39705               1999  automatik        224     s_klasse       150000   \n",
      "42221               2014    manuell        163           c4        40000   \n",
      "47598               2001    manuell        101       vectra       150000   \n",
      "24384               1995        NaN          0          NaN       150000   \n",
      "2897                1973    manuell         48       escort        50000   \n",
      "11137               1960    manuell        368          NaN       100000   \n",
      "47634               2006        NaN        799          NaN         5000   \n",
      "7814                1992        NaN          0          NaN        50000   \n",
      "22947               1999  automatik        190          NaN       150000   \n",
      "43049               1981    manuell         70  transporter       150000   \n",
      "514                 2009    manuell        101        focus       125000   \n",
      "37585               1985    manuell        111        jetta       150000   \n",
      "36818               2016    manuell        500          911         5000   \n",
      "14715               2012  automatik        460          NaN        20000   \n",
      "34723               1977    manuell        260          911       100000   \n",
      "35923               2015  automatik        400          911         5000   \n",
      "12682               2016  automatik        500          911         5000   \n",
      "47337               2001    manuell        400      z_reihe        20000   \n",
      "38299               2015        NaN          0      x_reihe         5000   \n",
      "37840               2008    manuell        415          911        30000   \n",
      "\n",
      "       registration_month fuel_type           brand not_repaired_damage  \\\n",
      "39705                   9    benzin   mercedes_benz                 NaN   \n",
      "42221                   2    diesel         citroen                 NaN   \n",
      "47598                   3    benzin            opel                nein   \n",
      "24384                   0       NaN      volkswagen                 NaN   \n",
      "2897                    3    benzin            ford                nein   \n",
      "11137                   1    benzin  sonstige_autos                nein   \n",
      "47634                   7       NaN  sonstige_autos                nein   \n",
      "7814                   12       NaN  sonstige_autos                nein   \n",
      "22947                   2    diesel             bmw                 NaN   \n",
      "43049                   1    benzin      volkswagen                 NaN   \n",
      "514                     4    benzin            ford                nein   \n",
      "37585                  12    benzin      volkswagen                  ja   \n",
      "36818                   3    benzin         porsche                nein   \n",
      "14715                   8    benzin  sonstige_autos                nein   \n",
      "34723                   7    benzin         porsche                nein   \n",
      "35923                   6    benzin         porsche                nein   \n",
      "12682                   3    benzin         porsche                nein   \n",
      "47337                   6    benzin             bmw                nein   \n",
      "38299                   0       NaN             bmw                 NaN   \n",
      "37840                   7    benzin         porsche                nein   \n",
      "\n",
      "                ad_created  postal_code            last_seen  \n",
      "39705  2016-03-22 00:00:00        73525  2016-04-06 05:15:30  \n",
      "42221  2016-03-08 00:00:00        76532  2016-03-08 20:39:05  \n",
      "47598  2016-03-31 00:00:00         4356  2016-03-31 18:56:54  \n",
      "24384  2016-03-21 00:00:00        18519  2016-03-21 14:40:18  \n",
      "2897   2016-03-12 00:00:00        94469  2016-03-12 22:45:27  \n",
      "11137  2016-03-29 00:00:00        73033  2016-04-06 21:18:11  \n",
      "47634  2016-04-04 00:00:00        60313  2016-04-05 12:07:37  \n",
      "7814   2016-04-04 00:00:00        60598  2016-04-05 11:34:11  \n",
      "22947  2016-03-22 00:00:00        17454  2016-04-02 03:17:32  \n",
      "43049  2016-03-21 00:00:00        99880  2016-03-28 17:18:28  \n",
      "514    2016-03-17 00:00:00        12205  2016-04-06 07:17:35  \n",
      "37585  2016-03-29 00:00:00        50997  2016-03-29 11:38:54  \n",
      "36818  2016-03-27 00:00:00        70499  2016-03-27 18:37:37  \n",
      "14715  2016-03-30 00:00:00        73525  2016-04-07 00:16:26  \n",
      "34723  2016-03-23 00:00:00        61462  2016-04-06 16:44:50  \n",
      "35923  2016-04-03 00:00:00        74078  2016-04-03 08:56:20  \n",
      "12682  2016-03-28 00:00:00        70193  2016-04-05 03:44:51  \n",
      "47337  2016-04-05 00:00:00        61462  2016-04-05 12:07:32  \n",
      "38299  2016-03-28 00:00:00        60489  2016-03-28 22:25:25  \n",
      "37840  2016-03-21 00:00:00        69198  2016-04-06 04:46:14  \n",
      "0      1335\n",
      "300     373\n",
      "350     328\n",
      "400     306\n",
      "250     284\n",
      "200     260\n",
      "450     252\n",
      "150     217\n",
      "1       150\n",
      "100     132\n",
      "499      86\n",
      "399      69\n",
      "299      53\n",
      "50       49\n",
      "199      40\n",
      "120      38\n",
      "180      34\n",
      "490      33\n",
      "220      32\n",
      "280      30\n",
      "Name: price_dollars, dtype: int64\n"
     ]
    }
   ],
   "source": [
    "print(autos.price_dollars.value_counts().head(5).sort_index(ascending=False))\n",
    "print(autos.price_dollars.value_counts().tail(5).sort_index(ascending=False))\n",
    "\n",
    "# Sorting all columns by price, descending, to see what types of values there are on the other end of the spectrum price >250000\n",
    "print(autos.sort_values(by='price_dollars',ascending=False).head(20))\n",
    "\n",
    "# look at min and max\n",
    "#print(autos.price_dollars.min())\n",
    "#print(autos.price_dollars.max())\n",
    "\n",
    "# It shows a lot of entries but it'll give us some perspective on whatother values are there. \n",
    "# Now I'm really intrigued that there are entries that are sub-500 dollars, so I'm gonna quickly check what sort of rows there are and the value counts\n",
    "\n",
    "print(autos.loc[autos.price_dollars < 500,'price_dollars'].value_counts().head(20))"
   ]
  },
  {
   "cell_type": "markdown",
   "metadata": {},
   "source": [
    "Now we see that the value `0` has a lot of instances. It's possible that people will willingly give awy their cars for free, and it does happen in the real world, in our case it just seems strange. And furthermore, this data has been crawled from Ebay so, it's a safe assumption that some of these don't have advertised prices or are still in a bidding stage.\n",
    "\n",
    "I wanted to check other values which are in the sub-500 price range, and there are still a considerable amount of observations and we may have to decrease the lower threshold to 300 or even 200. Before we do that, let's take a quick look at the values for the 100-300 range and see what types of cars(`brand,model`), the `price_dollars`, and `odometer_km` values there are.(`odometer_km` because the mileage partially determines the car's value) "
   ]
  },
  {
   "cell_type": "code",
   "execution_count": 180,
   "metadata": {},
   "outputs": [
    {
     "name": "stdout",
     "output_type": "stream",
     "text": [
      "            brand     model  odometer_km  price_dollars\n",
      "6      volkswagen      golf       150000            300\n",
      "33304  volkswagen      polo         5000            300\n",
      "32360     hyundai       NaN       150000            300\n",
      "32430  mitsubishi   carisma       150000            300\n",
      "32530  volkswagen      polo       150000            300\n",
      "10799  volkswagen      golf       150000            300\n",
      "10771        ford     focus       150000            300\n",
      "32574        fiat  seicento        80000            300\n",
      "10623  alfa_romeo       156       150000            300\n",
      "33187  volkswagen    passat       150000            300\n",
      "          brand   model  odometer_km  price_dollars\n",
      "14903  daihatsu  andere       150000            100\n",
      "42709      ford  escort       150000            100\n",
      "30491     skoda  andere        60000            100\n",
      "28755      fiat   punto       150000            100\n",
      "24862      ford     NaN       150000            100\n",
      "46574      ford     NaN       150000            100\n",
      "34359     rover  andere       150000            100\n",
      "34344      ford  fiesta        90000            100\n",
      "28680      opel   corsa       150000            100\n",
      "18370      fiat   punto       150000            100\n"
     ]
    }
   ],
   "source": [
    "# Prices at the upper end\n",
    "print(autos.loc[(autos.price_dollars >= 100) & (autos.price_dollars <=300),['brand','model','odometer_km','price_dollars']].sort_values(by='price_dollars', ascending=False).head(10))\n",
    "# ... and at the lower\n",
    "print(autos.loc[(autos.price_dollars >= 100) & (autos.price_dollars <=300),['brand','model','odometer_km','price_dollars']].sort_values(by='price_dollars', ascending=False).tail(10))"
   ]
  },
  {
   "cell_type": "markdown",
   "metadata": {},
   "source": [
    "Basing on my general knowledge of cars, most of these cars are older models(late 1980's-pre-2000's) and could possibly match the price advertised. However, there are also cars that might be newer but at the lower end, such as the Renault Clio or Volkswagen Golf as there are newer models(post 2010's) as well, but since we have no way of telling what model year they are, I have decided to put the lower threshold at 300. Basing also from experience that I have in the past having bought cars cheaper than 500."
   ]
  },
  {
   "cell_type": "markdown",
   "metadata": {},
   "source": [
    "On the other end, let's try and figure out the upper threshold. We made a quick peek at the most expensive values, earlier, but let's do a little bit more investigating"
   ]
  },
  {
   "cell_type": "code",
   "execution_count": 181,
   "metadata": {},
   "outputs": [
    {
     "data": {
      "text/html": [
       "<div>\n",
       "<style scoped>\n",
       "    .dataframe tbody tr th:only-of-type {\n",
       "        vertical-align: middle;\n",
       "    }\n",
       "\n",
       "    .dataframe tbody tr th {\n",
       "        vertical-align: top;\n",
       "    }\n",
       "\n",
       "    .dataframe thead th {\n",
       "        text-align: right;\n",
       "    }\n",
       "</style>\n",
       "<table border=\"1\" class=\"dataframe\">\n",
       "  <thead>\n",
       "    <tr style=\"text-align: right;\">\n",
       "      <th></th>\n",
       "      <th>name</th>\n",
       "      <th>brand</th>\n",
       "      <th>model</th>\n",
       "      <th>year</th>\n",
       "      <th>price_dollars</th>\n",
       "    </tr>\n",
       "  </thead>\n",
       "  <tbody>\n",
       "    <tr>\n",
       "      <th>39705</th>\n",
       "      <td>Tausch_gegen_gleichwertiges</td>\n",
       "      <td>mercedes_benz</td>\n",
       "      <td>s_klasse</td>\n",
       "      <td>NaN</td>\n",
       "      <td>99999999</td>\n",
       "    </tr>\n",
       "    <tr>\n",
       "      <th>42221</th>\n",
       "      <td>Leasinguebernahme</td>\n",
       "      <td>citroen</td>\n",
       "      <td>c4</td>\n",
       "      <td>NaN</td>\n",
       "      <td>27322222</td>\n",
       "    </tr>\n",
       "    <tr>\n",
       "      <th>47598</th>\n",
       "      <td>Opel_Vectra_B_1_6i_16V_Facelift_Tuning_Showcar...</td>\n",
       "      <td>opel</td>\n",
       "      <td>vectra</td>\n",
       "      <td>NaN</td>\n",
       "      <td>12345678</td>\n",
       "    </tr>\n",
       "    <tr>\n",
       "      <th>24384</th>\n",
       "      <td>Schlachte_Golf_3_gt_tdi</td>\n",
       "      <td>volkswagen</td>\n",
       "      <td>NaN</td>\n",
       "      <td>NaN</td>\n",
       "      <td>11111111</td>\n",
       "    </tr>\n",
       "    <tr>\n",
       "      <th>2897</th>\n",
       "      <td>Escort_MK_1_Hundeknochen_zum_umbauen_auf_RS_2000</td>\n",
       "      <td>ford</td>\n",
       "      <td>escort</td>\n",
       "      <td>NaN</td>\n",
       "      <td>11111111</td>\n",
       "    </tr>\n",
       "    <tr>\n",
       "      <th>11137</th>\n",
       "      <td>suche_maserati_3200_gt_Zustand_unwichtig_laufe...</td>\n",
       "      <td>sonstige_autos</td>\n",
       "      <td>NaN</td>\n",
       "      <td>NaN</td>\n",
       "      <td>10000000</td>\n",
       "    </tr>\n",
       "    <tr>\n",
       "      <th>47634</th>\n",
       "      <td>Ferrari_FXX</td>\n",
       "      <td>sonstige_autos</td>\n",
       "      <td>NaN</td>\n",
       "      <td>NaN</td>\n",
       "      <td>3890000</td>\n",
       "    </tr>\n",
       "    <tr>\n",
       "      <th>7814</th>\n",
       "      <td>Ferrari_F40</td>\n",
       "      <td>sonstige_autos</td>\n",
       "      <td>NaN</td>\n",
       "      <td>NaN</td>\n",
       "      <td>1300000</td>\n",
       "    </tr>\n",
       "    <tr>\n",
       "      <th>22947</th>\n",
       "      <td>Bmw_530d_zum_ausschlachten</td>\n",
       "      <td>bmw</td>\n",
       "      <td>NaN</td>\n",
       "      <td>NaN</td>\n",
       "      <td>1234566</td>\n",
       "    </tr>\n",
       "    <tr>\n",
       "      <th>43049</th>\n",
       "      <td>2_VW_Busse_T3</td>\n",
       "      <td>volkswagen</td>\n",
       "      <td>transporter</td>\n",
       "      <td>NaN</td>\n",
       "      <td>999999</td>\n",
       "    </tr>\n",
       "    <tr>\n",
       "      <th>514</th>\n",
       "      <td>Ford_Focus_Turnier_1.6_16V_Style</td>\n",
       "      <td>ford</td>\n",
       "      <td>focus</td>\n",
       "      <td>NaN</td>\n",
       "      <td>999999</td>\n",
       "    </tr>\n",
       "    <tr>\n",
       "      <th>37585</th>\n",
       "      <td>Volkswagen_Jetta_GT</td>\n",
       "      <td>volkswagen</td>\n",
       "      <td>jetta</td>\n",
       "      <td>NaN</td>\n",
       "      <td>999990</td>\n",
       "    </tr>\n",
       "    <tr>\n",
       "      <th>36818</th>\n",
       "      <td>Porsche_991</td>\n",
       "      <td>porsche</td>\n",
       "      <td>911</td>\n",
       "      <td>NaN</td>\n",
       "      <td>350000</td>\n",
       "    </tr>\n",
       "    <tr>\n",
       "      <th>14715</th>\n",
       "      <td>Rolls_Royce_Phantom_Drophead_Coupe</td>\n",
       "      <td>sonstige_autos</td>\n",
       "      <td>NaN</td>\n",
       "      <td>NaN</td>\n",
       "      <td>345000</td>\n",
       "    </tr>\n",
       "    <tr>\n",
       "      <th>34723</th>\n",
       "      <td>Porsche_Porsche_911/930_Turbo_3.0__deutsche_Au...</td>\n",
       "      <td>porsche</td>\n",
       "      <td>911</td>\n",
       "      <td>NaN</td>\n",
       "      <td>299000</td>\n",
       "    </tr>\n",
       "    <tr>\n",
       "      <th>35923</th>\n",
       "      <td>Porsche_911_Targa_Exclusive_Edition__1_von_15_...</td>\n",
       "      <td>porsche</td>\n",
       "      <td>911</td>\n",
       "      <td>NaN</td>\n",
       "      <td>295000</td>\n",
       "    </tr>\n",
       "    <tr>\n",
       "      <th>12682</th>\n",
       "      <td>Porsche_GT3_RS__PCCB__Lift___grosser_Exklusiv_...</td>\n",
       "      <td>porsche</td>\n",
       "      <td>911</td>\n",
       "      <td>NaN</td>\n",
       "      <td>265000</td>\n",
       "    </tr>\n",
       "    <tr>\n",
       "      <th>47337</th>\n",
       "      <td>BMW_Z8_roadster</td>\n",
       "      <td>bmw</td>\n",
       "      <td>z_reihe</td>\n",
       "      <td>NaN</td>\n",
       "      <td>259000</td>\n",
       "    </tr>\n",
       "    <tr>\n",
       "      <th>38299</th>\n",
       "      <td>Glas_BMW_mit_Wasser</td>\n",
       "      <td>bmw</td>\n",
       "      <td>x_reihe</td>\n",
       "      <td>NaN</td>\n",
       "      <td>250000</td>\n",
       "    </tr>\n",
       "    <tr>\n",
       "      <th>37840</th>\n",
       "      <td>Porsche_997</td>\n",
       "      <td>porsche</td>\n",
       "      <td>911</td>\n",
       "      <td>NaN</td>\n",
       "      <td>220000</td>\n",
       "    </tr>\n",
       "  </tbody>\n",
       "</table>\n",
       "</div>"
      ],
      "text/plain": [
       "                                                    name           brand  \\\n",
       "39705                        Tausch_gegen_gleichwertiges   mercedes_benz   \n",
       "42221                                  Leasinguebernahme         citroen   \n",
       "47598  Opel_Vectra_B_1_6i_16V_Facelift_Tuning_Showcar...            opel   \n",
       "24384                            Schlachte_Golf_3_gt_tdi      volkswagen   \n",
       "2897    Escort_MK_1_Hundeknochen_zum_umbauen_auf_RS_2000            ford   \n",
       "11137  suche_maserati_3200_gt_Zustand_unwichtig_laufe...  sonstige_autos   \n",
       "47634                                        Ferrari_FXX  sonstige_autos   \n",
       "7814                                         Ferrari_F40  sonstige_autos   \n",
       "22947                         Bmw_530d_zum_ausschlachten             bmw   \n",
       "43049                                      2_VW_Busse_T3      volkswagen   \n",
       "514                     Ford_Focus_Turnier_1.6_16V_Style            ford   \n",
       "37585                                Volkswagen_Jetta_GT      volkswagen   \n",
       "36818                                        Porsche_991         porsche   \n",
       "14715                 Rolls_Royce_Phantom_Drophead_Coupe  sonstige_autos   \n",
       "34723  Porsche_Porsche_911/930_Turbo_3.0__deutsche_Au...         porsche   \n",
       "35923  Porsche_911_Targa_Exclusive_Edition__1_von_15_...         porsche   \n",
       "12682  Porsche_GT3_RS__PCCB__Lift___grosser_Exklusiv_...         porsche   \n",
       "47337                                    BMW_Z8_roadster             bmw   \n",
       "38299                                Glas_BMW_mit_Wasser             bmw   \n",
       "37840                                        Porsche_997         porsche   \n",
       "\n",
       "             model  year  price_dollars  \n",
       "39705     s_klasse   NaN       99999999  \n",
       "42221           c4   NaN       27322222  \n",
       "47598       vectra   NaN       12345678  \n",
       "24384          NaN   NaN       11111111  \n",
       "2897        escort   NaN       11111111  \n",
       "11137          NaN   NaN       10000000  \n",
       "47634          NaN   NaN        3890000  \n",
       "7814           NaN   NaN        1300000  \n",
       "22947          NaN   NaN        1234566  \n",
       "43049  transporter   NaN         999999  \n",
       "514          focus   NaN         999999  \n",
       "37585        jetta   NaN         999990  \n",
       "36818          911   NaN         350000  \n",
       "14715          NaN   NaN         345000  \n",
       "34723          911   NaN         299000  \n",
       "35923          911   NaN         295000  \n",
       "12682          911   NaN         265000  \n",
       "47337      z_reihe   NaN         259000  \n",
       "38299      x_reihe   NaN         250000  \n",
       "37840          911   NaN         220000  "
      ]
     },
     "execution_count": 181,
     "metadata": {},
     "output_type": "execute_result"
    }
   ],
   "source": [
    "autos.loc[:,['name','brand','model','year','price_dollars']].sort_values(by='price_dollars',ascending=False).head(20)"
   ]
  },
  {
   "cell_type": "markdown",
   "metadata": {},
   "source": [
    "A few of the entries appear bogus. eg, prices of 12345678, cars costing 8 figures, or cars that are normally sub 20K costing more than a million. \n",
    "\n",
    "Basing on my knowledge of cars, most of these are bogus, or the prices as just fillers,ie, sellers don't really know what to put for price, except maybe the two Ferraris costing 3.89 mil and 1.3 mil, respectively. \n",
    "\n",
    "Looking at the data, I would put the upper threshold at 350,000(Porsche 911). It's just enough to not skew our data *too much*"
   ]
  },
  {
   "cell_type": "markdown",
   "metadata": {},
   "source": [
    "### Removing outliers"
   ]
  },
  {
   "cell_type": "markdown",
   "metadata": {},
   "source": [
    "One of the more popular methods of removing outliers is using the IQR method, with the given formula:\n",
    "\n",
    "$$IQR = Q3 - Q1\n",
    "\\\\\n",
    "lower = Q1 - IQR*1.5\n",
    "\\\\\n",
    "upper = Q3 + IQR*1.5 $$"
   ]
  },
  {
   "cell_type": "markdown",
   "metadata": {},
   "source": [
    "We can code this using the following:"
   ]
  },
  {
   "cell_type": "code",
   "execution_count": 182,
   "metadata": {},
   "outputs": [
    {
     "name": "stdout",
     "output_type": "stream",
     "text": [
      "lower threshold: -8225.0\n",
      " upper threshold: 16775.0\n"
     ]
    }
   ],
   "source": [
    "price_q1 = autos.price_dollars.quantile(0.25)\n",
    "price_q3 = autos.price_dollars.quantile(0.75)\n",
    "price_iqr =  price_q3 - price_q1\n",
    "# lower threshold\n",
    "price_lower = price_q1 - price_iqr*1.5\n",
    "# upper threshold\n",
    "price_upper = price_q3 + price_iqr*1.5\n",
    "\n",
    "print(\"lower threshold: {}\\n upper threshold: {}\".format(price_lower,price_upper))"
   ]
  },
  {
   "cell_type": "markdown",
   "metadata": {},
   "source": [
    "We then use these as filters when querying. Again, we'll use temp variables first"
   ]
  },
  {
   "cell_type": "code",
   "execution_count": 183,
   "metadata": {},
   "outputs": [
    {
     "name": "stdout",
     "output_type": "stream",
     "text": [
      "count    44472.000000\n",
      "mean      4054.822315\n",
      "std       3942.286981\n",
      "min          0.000000\n",
      "25%       1000.000000\n",
      "50%       2600.000000\n",
      "75%       5999.000000\n",
      "max      16750.000000\n",
      "Name: price_dollars, dtype: float64\n"
     ]
    }
   ],
   "source": [
    "price_dollars_new = autos.loc[(autos.price_dollars >= price_lower) & (autos.price_dollars <= price_upper), 'price_dollars']\n",
    "\n",
    "print(price_dollars_new.describe())"
   ]
  },
  {
   "cell_type": "markdown",
   "metadata": {},
   "source": [
    "### But..."
   ]
  },
  {
   "cell_type": "markdown",
   "metadata": {},
   "source": [
    "But we know that the values in this column are mostly inaccurate and therefore needs to be cleaned, so this method is of no use to us. If you look at the minimum calculated threshold, it sits at -8050(dollars). Common sense says that it's ridiculous, especially if you're dealing with car prices.\n",
    "\n",
    "Basing on our observations, we conclude that:\n",
    "\n",
    "    - the lower threshold is 300\n",
    "    \n",
    "    - the upper threshold is 350000\n",
    "\n",
    "Therefore 300 <= range <= 350000\n",
    "    \n",
    "So let's go ahead and do that"
   ]
  },
  {
   "cell_type": "code",
   "execution_count": 184,
   "metadata": {},
   "outputs": [],
   "source": [
    "autos_new = autos.loc[(autos.price_dollars >= 300) & (autos.price_dollars <= 350000), :]\n",
    "\n",
    "# Or much more readable\n",
    "\n",
    "autos_new = autos.loc[autos.price_dollars.between(300,350000),:]"
   ]
  },
  {
   "cell_type": "code",
   "execution_count": 185,
   "metadata": {},
   "outputs": [
    {
     "name": "stdout",
     "output_type": "stream",
     "text": [
      "          date_crawled                                               name  \\\n",
      "0  2016-03-26 17:47:46                   Peugeot_807_160_NAVTECH_ON_BOARD   \n",
      "1  2016-04-04 13:38:56         BMW_740i_4_4_Liter_HAMANN_UMBAU_Mega_Optik   \n",
      "2  2016-03-26 18:57:24                         Volkswagen_Golf_1.6_United   \n",
      "3  2016-03-12 16:58:10  Smart_smart_fortwo_coupe_softouch/F1/Klima/Pan...   \n",
      "4  2016-04-01 14:38:50  Ford_Focus_1_6_Benzin_TÜV_neu_ist_sehr_gepfleg...   \n",
      "\n",
      "   seller offer_type  price_dollars   abtest vehicle_type  registration_year  \\\n",
      "0  privat    Angebot           5000  control          bus               2004   \n",
      "1  privat    Angebot           8500  control    limousine               1997   \n",
      "2  privat    Angebot           8990     test    limousine               2009   \n",
      "3  privat    Angebot           4350  control   kleinwagen               2007   \n",
      "4  privat    Angebot           1350     test        kombi               2003   \n",
      "\n",
      "     gearbox  power_p_s   model  odometer_km  registration_month fuel_type  \\\n",
      "0    manuell        158  andere       150000                   3       lpg   \n",
      "1  automatik        286     7er       150000                   6    benzin   \n",
      "2    manuell        102    golf        70000                   7    benzin   \n",
      "3  automatik         71  fortwo        70000                   6    benzin   \n",
      "4    manuell          0   focus       150000                   7    benzin   \n",
      "\n",
      "        brand not_repaired_damage           ad_created  postal_code  \\\n",
      "0     peugeot                nein  2016-03-26 00:00:00        79588   \n",
      "1         bmw                nein  2016-04-04 00:00:00        71034   \n",
      "2  volkswagen                nein  2016-03-26 00:00:00        35394   \n",
      "3       smart                nein  2016-03-12 00:00:00        33729   \n",
      "4        ford                nein  2016-04-01 00:00:00        39218   \n",
      "\n",
      "             last_seen  \n",
      "0  2016-04-06 06:45:54  \n",
      "1  2016-04-06 14:45:08  \n",
      "2  2016-04-06 20:15:37  \n",
      "3  2016-03-15 03:16:28  \n",
      "4  2016-04-01 14:38:50  \n",
      "\n",
      "Number of unique values: (2230,)\n"
     ]
    }
   ],
   "source": [
    "# Quickly verify\n",
    "print(autos_new.head())\n",
    "\n",
    "# check the number of unique values now(previously, 2357)\n",
    "print(\"\\nNumber of unique values: {}\".format(autos_new.price_dollars.unique().shape))"
   ]
  },
  {
   "cell_type": "markdown",
   "metadata": {},
   "source": [
    "### Cleaning Up Date Values"
   ]
  },
  {
   "cell_type": "markdown",
   "metadata": {},
   "source": [
    "Next up is preparing date values, first, let's figure out which columns are date values"
   ]
  },
  {
   "cell_type": "code",
   "execution_count": 186,
   "metadata": {},
   "outputs": [
    {
     "name": "stdout",
     "output_type": "stream",
     "text": [
      "<class 'pandas.core.frame.DataFrame'>\n",
      "Int64Index: 48028 entries, 0 to 49999\n",
      "Data columns (total 19 columns):\n",
      "date_crawled           48028 non-null object\n",
      "name                   48028 non-null object\n",
      "seller                 48028 non-null object\n",
      "offer_type             48028 non-null object\n",
      "price_dollars          48028 non-null int32\n",
      "abtest                 48028 non-null object\n",
      "vehicle_type           44903 non-null object\n",
      "registration_year      48028 non-null int64\n",
      "gearbox                45604 non-null object\n",
      "power_p_s              48028 non-null int64\n",
      "model                  45560 non-null object\n",
      "odometer_km            48028 non-null int32\n",
      "registration_month     48028 non-null int64\n",
      "fuel_type              44301 non-null object\n",
      "brand                  48028 non-null object\n",
      "not_repaired_damage    39040 non-null object\n",
      "ad_created             48028 non-null object\n",
      "postal_code            48028 non-null int64\n",
      "last_seen              48028 non-null object\n",
      "dtypes: int32(2), int64(4), object(13)\n",
      "memory usage: 5.6+ MB\n",
      "None\n"
     ]
    }
   ],
   "source": [
    "print(autos.info())"
   ]
  },
  {
   "cell_type": "markdown",
   "metadata": {},
   "source": [
    "Let's look at a row and see what types of values each column have"
   ]
  },
  {
   "cell_type": "code",
   "execution_count": 187,
   "metadata": {},
   "outputs": [
    {
     "name": "stdout",
     "output_type": "stream",
     "text": [
      "date_crawled                        2016-03-26 17:47:46\n",
      "name                   Peugeot_807_160_NAVTECH_ON_BOARD\n",
      "seller                                           privat\n",
      "offer_type                                      Angebot\n",
      "price_dollars                                      5000\n",
      "abtest                                          control\n",
      "vehicle_type                                        bus\n",
      "registration_year                                  2004\n",
      "gearbox                                         manuell\n",
      "power_p_s                                           158\n",
      "model                                            andere\n",
      "odometer_km                                      150000\n",
      "registration_month                                    3\n",
      "fuel_type                                           lpg\n",
      "brand                                           peugeot\n",
      "not_repaired_damage                                nein\n",
      "ad_created                          2016-03-26 00:00:00\n",
      "postal_code                                       79588\n",
      "last_seen                           2016-04-06 06:45:54\n",
      "Name: 0, dtype: object\n"
     ]
    }
   ],
   "source": [
    "print(autos.iloc[0])"
   ]
  },
  {
   "cell_type": "markdown",
   "metadata": {},
   "source": [
    "We see the following: `date_crawled`, `ad_created`, `registration_month`, `registration_year` and `last_seen`. Let's take a closer at each of the `dtypes`"
   ]
  },
  {
   "cell_type": "code",
   "execution_count": 188,
   "metadata": {},
   "outputs": [
    {
     "name": "stdout",
     "output_type": "stream",
     "text": [
      "date_crawled          object\n",
      "ad_created            object\n",
      "registration_month     int64\n",
      "registration_year      int64\n",
      "last_seen             object\n",
      "dtype: object\n"
     ]
    }
   ],
   "source": [
    "print(autos[['date_crawled',\n",
    "            'ad_created',\n",
    "            'registration_month',\n",
    "            'registration_year',\n",
    "            'last_seen']].dtypes)"
   ]
  },
  {
   "cell_type": "markdown",
   "metadata": {},
   "source": [
    "We see that only `registration_month` and `registration_year` columns are numeric, so we'll skip those for now. If we look at the rows for the rest we'll see that the format is the same, that is. `YYYY-MM-DD HH:MM:SS`\n",
    "\n",
    "We're only concerned with the date, so we can safely remove the time"
   ]
  },
  {
   "cell_type": "code",
   "execution_count": 189,
   "metadata": {},
   "outputs": [
    {
     "name": "stdout",
     "output_type": "stream",
     "text": [
      "          date_crawled           ad_created            last_seen\n",
      "0  2016-03-26 17:47:46  2016-03-26 00:00:00  2016-04-06 06:45:54\n",
      "1  2016-04-04 13:38:56  2016-04-04 00:00:00  2016-04-06 14:45:08\n",
      "2  2016-03-26 18:57:24  2016-03-26 00:00:00  2016-04-06 20:15:37\n"
     ]
    }
   ],
   "source": [
    "print(autos[['date_crawled','ad_created','last_seen']].head(3))"
   ]
  },
  {
   "cell_type": "markdown",
   "metadata": {},
   "source": [
    "Since the first 10 values in the string is all that we need, we can simply use the `Series.str` accessor"
   ]
  },
  {
   "cell_type": "code",
   "execution_count": 190,
   "metadata": {},
   "outputs": [
    {
     "name": "stdout",
     "output_type": "stream",
     "text": [
      "0        2016-03-26\n",
      "1        2016-04-04\n",
      "2        2016-03-26\n",
      "3        2016-03-12\n",
      "4        2016-04-01\n",
      "            ...    \n",
      "49995    2016-03-27\n",
      "49996    2016-03-28\n",
      "49997    2016-04-02\n",
      "49998    2016-03-08\n",
      "49999    2016-03-14\n",
      "Name: date_crawled, Length: 48028, dtype: object\n"
     ]
    }
   ],
   "source": [
    "# Example\n",
    "print(autos.date_crawled.str[0:10])"
   ]
  },
  {
   "cell_type": "markdown",
   "metadata": {},
   "source": [
    "Now, at this point in time, we're not going to touch the data in the dataframe yet so we'll have to do this separately. For now, let's assign these values to variables"
   ]
  },
  {
   "cell_type": "code",
   "execution_count": 191,
   "metadata": {},
   "outputs": [],
   "source": [
    "date_crawled = autos.date_crawled.str[0:10]\n",
    "ad_created = autos.ad_created.str[0:10]\n",
    "last_seen = autos.last_seen[0:10]"
   ]
  },
  {
   "cell_type": "markdown",
   "metadata": {},
   "source": [
    "Now, we need to create distributions. To do that, we'll need to include missing values(`NaN`s) and normalise. Then rank by date with `Series.sort_index()`"
   ]
  },
  {
   "cell_type": "code",
   "execution_count": 192,
   "metadata": {},
   "outputs": [
    {
     "name": "stdout",
     "output_type": "stream",
     "text": [
      "date_created\n",
      "2016-03-05    0.025256\n",
      "2016-03-06    0.014075\n",
      "2016-03-07    0.036146\n",
      "2016-03-08    0.033522\n",
      "2016-03-09    0.033356\n",
      "2016-03-10    0.032190\n",
      "2016-03-11    0.032356\n",
      "2016-03-12    0.036708\n",
      "2016-03-13    0.015741\n",
      "2016-03-14    0.036395\n",
      "2016-03-15    0.034022\n",
      "2016-03-16    0.029379\n",
      "2016-03-17    0.031711\n",
      "2016-03-18    0.012972\n",
      "2016-03-19    0.034792\n",
      "2016-03-20    0.037957\n",
      "2016-03-21    0.037499\n",
      "2016-03-22    0.032814\n",
      "2016-03-23    0.032335\n",
      "2016-03-24    0.029254\n",
      "2016-03-25    0.031607\n",
      "2016-03-26    0.032294\n",
      "2016-03-27    0.030753\n",
      "2016-03-28    0.034605\n",
      "2016-03-29    0.034188\n",
      "2016-03-30    0.033751\n",
      "2016-03-31    0.031877\n",
      "2016-04-01    0.033918\n",
      "2016-04-02    0.035479\n",
      "2016-04-03    0.038873\n",
      "2016-04-04    0.036645\n",
      "2016-04-05    0.012992\n",
      "2016-04-06    0.003102\n",
      "2016-04-07    0.001437\n",
      "Name: date_crawled, dtype: float64\n",
      "ad_created\n",
      "2015-06-11    0.000021\n",
      "2015-08-10    0.000021\n",
      "2015-09-09    0.000021\n",
      "2015-11-10    0.000021\n",
      "2015-12-05    0.000021\n",
      "                ...   \n",
      "2016-04-03    0.039102\n",
      "2016-04-04    0.036978\n",
      "2016-04-05    0.011785\n",
      "2016-04-06    0.003186\n",
      "2016-04-07    0.001291\n",
      "Name: ad_created, Length: 74, dtype: float64\n",
      "last_seen\n",
      "2016-03-15 03:16:28    0.1\n",
      "2016-03-23 02:48:59    0.1\n",
      "2016-03-26 18:18:10    0.1\n",
      "2016-04-01 14:38:50    0.1\n",
      "2016-04-06 06:45:54    0.1\n",
      "2016-04-06 09:45:21    0.1\n",
      "2016-04-06 10:46:35    0.1\n",
      "2016-04-06 14:45:08    0.1\n",
      "2016-04-06 20:15:37    0.1\n",
      "2016-04-07 03:17:32    0.1\n",
      "Name: last_seen, dtype: float64\n"
     ]
    }
   ],
   "source": [
    "print('date_created\\n{}'.format(date_crawled.value_counts(normalize=True,dropna=False).sort_index()))\n",
    "print('ad_created\\n{}'.format(ad_created.value_counts(normalize=True,dropna=False).sort_index()))\n",
    "print('last_seen\\n{}'.format(last_seen.value_counts(normalize=True,dropna=False).sort_index()))"
   ]
  },
  {
   "cell_type": "markdown",
   "metadata": {},
   "source": [
    "We see that the ads were mostly created within the 2015 and 2016 years but no new activity after 2016. So, normally, any registration happening later than that year should be deemed inaccurate."
   ]
  },
  {
   "cell_type": "markdown",
   "metadata": {},
   "source": [
    "Next, let's see what we can do with `registration_year` and what it show us. Since it's already in `int` we don't need to do a lot of manipulation"
   ]
  },
  {
   "cell_type": "code",
   "execution_count": 193,
   "metadata": {},
   "outputs": [
    {
     "name": "stdout",
     "output_type": "stream",
     "text": [
      "count    48028.00000\n",
      "mean      2002.80351\n",
      "std          7.31085\n",
      "min       1910.00000\n",
      "25%       1999.00000\n",
      "50%       2003.00000\n",
      "75%       2008.00000\n",
      "max       2016.00000\n",
      "Name: registration_year, dtype: float64\n"
     ]
    }
   ],
   "source": [
    "print(autos.registration_year.describe())"
   ]
  },
  {
   "cell_type": "code",
   "execution_count": 194,
   "metadata": {},
   "outputs": [
    {
     "data": {
      "text/plain": [
       "dtype('int64')"
      ]
     },
     "execution_count": 194,
     "metadata": {},
     "output_type": "execute_result"
    }
   ],
   "source": [
    "autos.registration_year.dtypes"
   ]
  },
  {
   "cell_type": "markdown",
   "metadata": {},
   "source": [
    "Right away we can see some bogus values that totally make no sense. min reports having `1000` and max as `9999` and should be automatically deemed inaccurate."
   ]
  },
  {
   "cell_type": "code",
   "execution_count": 195,
   "metadata": {},
   "outputs": [
    {
     "name": "stdout",
     "output_type": "stream",
     "text": [
      "[2004 1997 2009 2007 2003 2006 1995 1998 2000 2010 1999 1982 1990 2015\n",
      " 2014 1996 1992 2005 2002 2012 2011 2008 1985 2016 1994 1986 2001 2013\n",
      " 1972 1993 1988 1989 1967 1973 1956 1976 1987 1991 1983 1960 1969 1950\n",
      " 1978 1980 1984 1963 1977 1961 1968 1934 1965 1971 1966 1979 1981 1970\n",
      " 1974 1910 1975 1959 1964 1958 1948 1931 1943 1941 1962 1927 1937 1929\n",
      " 1957 1952 1955 1939 1954 1938 1953 1951]\n",
      "(78,)\n"
     ]
    }
   ],
   "source": [
    "print(autos.registration_year.unique())\n",
    "print(autos.registration_year.unique().shape)"
   ]
  },
  {
   "cell_type": "markdown",
   "metadata": {},
   "source": [
    "We see that there's not an insane amount of unique values so it's easy for us to pick out inaccurate entries. We can select a range. However, picking an the earliest point in our range can be quite tricky(since cars have been around since automobiles have been around since the late 19th century)\n",
    "\n",
    "After doing a quick research, the year that automobiles have been mass produced for regular consumers was in 1901 by Ransom E. Olds. So let's check see what values we get for our the bottom line of our range. Let's put the top line as the current year(2019)"
   ]
  },
  {
   "cell_type": "code",
   "execution_count": 196,
   "metadata": {},
   "outputs": [
    {
     "name": "stdout",
     "output_type": "stream",
     "text": [
      "[2004 1997 2009 2007 2003 2006 1995 1998 2000 2010 1999 1982 1990 2015\n",
      " 2014 1996 1992 2005 2002 2012 2011 2008 1985 2016 1994 1986 2001 2013\n",
      " 1972 1993 1988 1989 1967 1973 1956 1976 1987 1991 1983 1960 1969 1950\n",
      " 1978 1980 1984 1963 1977 1961 1968 1934 1965 1971 1966 1979 1981 1970\n",
      " 1974 1910 1975 1959 1964 1958 1948 1931 1943 1941 1962 1927 1937 1929\n",
      " 1957 1952 1955 1939 1954 1938 1953 1951]\n",
      "(78,)\n"
     ]
    }
   ],
   "source": [
    "autos_year = autos.loc[autos.registration_year.between(1901,2019),'registration_year']\n",
    "\n",
    "# Unique values\n",
    "print(autos_year.unique())\n",
    "# current length\n",
    "print(autos_year.unique().shape)"
   ]
  },
  {
   "cell_type": "markdown",
   "metadata": {},
   "source": [
    "Now, I want to see them ordered and how many counts there are"
   ]
  },
  {
   "cell_type": "code",
   "execution_count": 197,
   "metadata": {},
   "outputs": [
    {
     "name": "stdout",
     "output_type": "stream",
     "text": [
      "2016    1316\n",
      "2015     399\n",
      "2014     666\n",
      "2013     806\n",
      "2012    1323\n",
      "        ... \n",
      "1934       2\n",
      "1931       1\n",
      "1929       1\n",
      "1927       1\n",
      "1910       9\n",
      "Name: registration_year, Length: 78, dtype: int64\n"
     ]
    }
   ],
   "source": [
    "print(autos_year.value_counts().sort_index(ascending=False))"
   ]
  },
  {
   "cell_type": "markdown",
   "metadata": {},
   "source": [
    "We see that it goes up to the current year. One thing to note is that for any entries with `registration_year` being more recent than the `last_seen` they should be deemed invalid.\n",
    "\n",
    "*NOTE*: `registration_year` is the year the vehicle was **FIRST** registered\n",
    "\n",
    "First I want to verify the latest year the ads were last seen.(we did this in an earlier step but I just want to show how to do it using another method)"
   ]
  },
  {
   "cell_type": "code",
   "execution_count": 198,
   "metadata": {},
   "outputs": [
    {
     "name": "stdout",
     "output_type": "stream",
     "text": [
      "2016-04-07     6328\n",
      "2016-04-06    10683\n",
      "2016-04-05     5998\n",
      "2016-04-04     1164\n",
      "2016-04-03     1216\n",
      "Name: last_seen, dtype: int64\n"
     ]
    }
   ],
   "source": [
    "print(autos.last_seen.str[0:10].value_counts().sort_index(ascending=False).head(5))"
   ]
  },
  {
   "cell_type": "markdown",
   "metadata": {},
   "source": [
    "So, `2016` appears to be the latest year in `last_seen` therefore, anything above that should be deemed inaccurate.\n",
    "\n",
    "So now, our new range should be 1901 to 2016. Now let's drop the rows"
   ]
  },
  {
   "cell_type": "code",
   "execution_count": 199,
   "metadata": {},
   "outputs": [],
   "source": [
    "autos = autos.loc[autos.registration_year.between(1901,2016),:]"
   ]
  },
  {
   "cell_type": "code",
   "execution_count": 200,
   "metadata": {},
   "outputs": [
    {
     "name": "stdout",
     "output_type": "stream",
     "text": [
      "(48028, 19)\n"
     ]
    }
   ],
   "source": [
    "# Verify \n",
    "print(autos.shape)"
   ]
  },
  {
   "cell_type": "code",
   "execution_count": 201,
   "metadata": {},
   "outputs": [
    {
     "name": "stdout",
     "output_type": "stream",
     "text": [
      "2000    0.069834\n",
      "2005    0.062776\n",
      "1999    0.062464\n",
      "2004    0.056988\n",
      "2003    0.056779\n",
      "          ...   \n",
      "1939    0.000021\n",
      "1927    0.000021\n",
      "1929    0.000021\n",
      "1948    0.000021\n",
      "1952    0.000021\n",
      "Name: registration_year, Length: 78, dtype: float64\n"
     ]
    }
   ],
   "source": [
    "# Now let's check the distribution of the values in the updated column\n",
    "print(autos.registration_year.value_counts(normalize=True))"
   ]
  },
  {
   "cell_type": "markdown",
   "metadata": {},
   "source": [
    "As it shows, the biggest percentage of cars being advertised comes from the year 2000"
   ]
  },
  {
   "cell_type": "markdown",
   "metadata": {},
   "source": [
    "### Data Aggregation"
   ]
  },
  {
   "cell_type": "markdown",
   "metadata": {},
   "source": [
    "Naturally, when working with products, such as cars, it's natural to explore variations across different brands. In this exercise, we'll look at the different brands and show each one's basic statistics\n",
    "\n",
    "First, we'll get a list of all unique brands"
   ]
  },
  {
   "cell_type": "code",
   "execution_count": 202,
   "metadata": {},
   "outputs": [
    {
     "name": "stdout",
     "output_type": "stream",
     "text": [
      "['peugeot' 'bmw' 'volkswagen' 'smart' 'ford' 'chrysler' 'seat' 'renault'\n",
      " 'mercedes_benz' 'audi' 'sonstige_autos' 'opel' 'mazda' 'porsche' 'mini'\n",
      " 'toyota' 'dacia' 'nissan' 'jeep' 'saab' 'volvo' 'mitsubishi' 'jaguar'\n",
      " 'fiat' 'skoda' 'subaru' 'kia' 'citroen' 'chevrolet' 'hyundai' 'honda'\n",
      " 'daewoo' 'suzuki' 'trabant' 'land_rover' 'alfa_romeo' 'lada' 'rover'\n",
      " 'daihatsu' 'lancia']\n",
      "(40,)\n"
     ]
    }
   ],
   "source": [
    "print(autos.brand.unique())\n",
    "print(autos.brand.unique().shape)"
   ]
  },
  {
   "cell_type": "code",
   "execution_count": 203,
   "metadata": {},
   "outputs": [
    {
     "name": "stdout",
     "output_type": "stream",
     "text": [
      "volkswagen        10188\n",
      "bmw                5284\n",
      "opel               5195\n",
      "mercedes_benz      4580\n",
      "audi               4149\n",
      "ford               3352\n",
      "renault            2274\n",
      "peugeot            1418\n",
      "fiat               1242\n",
      "seat                873\n",
      "skoda               770\n",
      "mazda               727\n",
      "nissan              725\n",
      "citroen             669\n",
      "smart               668\n",
      "toyota              599\n",
      "sonstige_autos      526\n",
      "hyundai             473\n",
      "volvo               444\n",
      "mini                415\n",
      "mitsubishi          391\n",
      "honda               377\n",
      "kia                 341\n",
      "alfa_romeo          318\n",
      "porsche             293\n",
      "suzuki              284\n",
      "chevrolet           274\n",
      "chrysler            176\n",
      "dacia               123\n",
      "daihatsu            123\n",
      "jeep                108\n",
      "subaru              105\n",
      "land_rover           98\n",
      "saab                 77\n",
      "jaguar               76\n",
      "trabant              75\n",
      "daewoo               72\n",
      "rover                65\n",
      "lancia               52\n",
      "lada                 29\n",
      "Name: brand, dtype: int64\n"
     ]
    }
   ],
   "source": [
    "# Next, the different value counts sorted by values in descending order\n",
    "print(autos.brand.value_counts().sort_values(ascending=False))"
   ]
  },
  {
   "cell_type": "markdown",
   "metadata": {},
   "source": [
    "We currently have 40 unique values, but we only want to get a subset -- let's say, the top 20 brands -- to do our analysis on. Then we assign them to a dictionary"
   ]
  },
  {
   "cell_type": "code",
   "execution_count": 204,
   "metadata": {},
   "outputs": [
    {
     "name": "stdout",
     "output_type": "stream",
     "text": [
      "Index(['volkswagen', 'bmw', 'opel', 'mercedes_benz', 'audi', 'ford', 'renault',\n",
      "       'peugeot', 'fiat', 'seat', 'skoda', 'mazda', 'nissan', 'citroen',\n",
      "       'smart', 'toyota', 'sonstige_autos', 'hyundai', 'volvo', 'mini'],\n",
      "      dtype='object')\n"
     ]
    }
   ],
   "source": [
    "# get the top 20 brands for aggregation\n",
    "top_20_brands = autos.brand.value_counts().sort_values(ascending=False)[0:20].index\n",
    "\n",
    "print(top_20_brands)\n"
   ]
  },
  {
   "cell_type": "code",
   "execution_count": 205,
   "metadata": {},
   "outputs": [],
   "source": [
    "# create a dictionary for storage\n",
    "top_20_aggr = {}\n",
    "\n",
    "for b in top_20_brands:\n",
    "    # get mean price per brand\n",
    "    top_20_aggr[b] = autos.loc[autos['brand'] == b, 'price_dollars'].mean().round(decimals=2)"
   ]
  },
  {
   "cell_type": "code",
   "execution_count": 206,
   "metadata": {},
   "outputs": [
    {
     "name": "stdout",
     "output_type": "stream",
     "text": [
      "{'audi': 9093.65,\n",
      " 'bmw': 8334.65,\n",
      " 'citroen': 44534.8,\n",
      " 'fiat': 2711.8,\n",
      " 'ford': 7263.02,\n",
      " 'hyundai': 5308.54,\n",
      " 'mazda': 4010.77,\n",
      " 'mercedes_benz': 30317.45,\n",
      " 'mini': 10460.01,\n",
      " 'nissan': 4664.89,\n",
      " 'opel': 5252.62,\n",
      " 'peugeot': 3039.47,\n",
      " 'renault': 2395.42,\n",
      " 'seat': 4296.49,\n",
      " 'skoda': 6334.92,\n",
      " 'smart': 3542.71,\n",
      " 'sonstige_autos': 39621.78,\n",
      " 'toyota': 5115.33,\n",
      " 'volkswagen': 6516.46,\n",
      " 'volvo': 4757.11}\n"
     ]
    }
   ],
   "source": [
    "# importing pprint to pretty print dicts\n",
    "from pprint import pprint as pp\n",
    "\n",
    "pp(top_20_aggr, width =1)"
   ]
  },
  {
   "cell_type": "markdown",
   "metadata": {},
   "source": [
    "Everything looks good. For the sake of brevity, I rounded the decimal points to the nearest hundreth's. One entry stands out -- `sonstige_autos` -- It's not a brand, but *translated*(I used Google Translate) it means \"other autos.\" Which means there are a few other brands in those rows. It we might consider that for removal.\n",
    "\n",
    "Other than that, let's try ordering by price, but it's hard to order a python dict by value, so since we're already using Pandas, we should just use what we have instead of using another library/module. "
   ]
  },
  {
   "cell_type": "code",
   "execution_count": 207,
   "metadata": {},
   "outputs": [
    {
     "name": "stdout",
     "output_type": "stream",
     "text": [
      "citroen           44534.80\n",
      "sonstige_autos    39621.78\n",
      "mercedes_benz     30317.45\n",
      "mini              10460.01\n",
      "audi               9093.65\n",
      "bmw                8334.65\n",
      "ford               7263.02\n",
      "volkswagen         6516.46\n",
      "skoda              6334.92\n",
      "hyundai            5308.54\n",
      "opel               5252.62\n",
      "toyota             5115.33\n",
      "volvo              4757.11\n",
      "nissan             4664.89\n",
      "seat               4296.49\n",
      "mazda              4010.77\n",
      "smart              3542.71\n",
      "peugeot            3039.47\n",
      "fiat               2711.80\n",
      "renault            2395.42\n",
      "dtype: float64\n"
     ]
    }
   ],
   "source": [
    "# Create a Pandas.Series object with current dict\n",
    "brand_mean_price = pd.Series(top_20_aggr)\n",
    "\n",
    "# Print and sort by value, descending\n",
    "print(brand_mean_price.sort_values(ascending=False))"
   ]
  },
  {
   "cell_type": "markdown",
   "metadata": {},
   "source": [
    "Now I want to be able see the top 6 brands mean prices and analyse. But since we aggregated it into dict, the ranks were removed as python dicts are ordered by key. We *can* create additional logic, but since the data is not massive, we don't need to create another Series object, create ranking values, aggregate to a dict, etc. So we're just going to create a for loop to print the values for us"
   ]
  },
  {
   "cell_type": "code",
   "execution_count": 208,
   "metadata": {},
   "outputs": [
    {
     "name": "stdout",
     "output_type": "stream",
     "text": [
      "volkswagen : 6516.46\n",
      "bmw : 8334.65\n",
      "opel : 5252.62\n",
      "mercedes_benz : 30317.45\n",
      "audi : 9093.65\n",
      "ford : 7263.02\n"
     ]
    }
   ],
   "source": [
    "for b in top_20_brands[0:6]:\n",
    "    print('{} : {}'.format(b,top_20_aggr[b]))"
   ]
  },
  {
   "cell_type": "markdown",
   "metadata": {},
   "source": [
    "We see here that the most expensive ones, not surprisingly, are `bmw`, `audi`, and `mercedes_benz`. `opel` being the cheapest and `volkswagen` and `ford` for the midrange"
   ]
  },
  {
   "cell_type": "markdown",
   "metadata": {},
   "source": [
    "Coming back to what I said about python dicts --  they're hard to use for analysis as they can't be ordered by value -- and additionally, if we want to order or compare values or rows, etc. This next section demostrates just that: the need for Pandas. Since we already have our mean prices dataframe, we won't need to create another one. But we do need to create  another one for mean mileage. "
   ]
  },
  {
   "cell_type": "code",
   "execution_count": 209,
   "metadata": {},
   "outputs": [
    {
     "name": "stdout",
     "output_type": "stream",
     "text": [
      "{'audi': 129287.78,\n",
      " 'bmw': 132434.71,\n",
      " 'citroen': 119461.88,\n",
      " 'fiat': 116553.95,\n",
      " 'ford': 124046.84,\n",
      " 'hyundai': 106511.63,\n",
      " 'mazda': 124745.53,\n",
      " 'mercedes_benz': 130860.26,\n",
      " 'mini': 88602.41,\n",
      " 'nissan': 118572.41,\n",
      " 'opel': 129227.14,\n",
      " 'peugeot': 127136.81,\n",
      " 'renault': 128183.82,\n",
      " 'seat': 121563.57,\n",
      " 'skoda': 110954.55,\n",
      " 'smart': 99595.81,\n",
      " 'sonstige_autos': 87262.36,\n",
      " 'toyota': 115709.52,\n",
      " 'volkswagen': 128730.37,\n",
      " 'volvo': 138355.86}\n"
     ]
    }
   ],
   "source": [
    "# Create dict for mean mileage\n",
    "top_20_mileage = {}\n",
    "\n",
    "for b in top_20_brands:\n",
    "    # get mean mileage per brand\n",
    "    top_20_mileage[b] = autos.loc[autos['brand'] == b, 'odometer_km'].mean().round(decimals=2)\n",
    "    \n",
    "# Pretty print\n",
    "pp(top_20_mileage, width =1)"
   ]
  },
  {
   "cell_type": "code",
   "execution_count": 210,
   "metadata": {},
   "outputs": [
    {
     "name": "stdout",
     "output_type": "stream",
     "text": [
      "volkswagen        128730.37\n",
      "bmw               132434.71\n",
      "opel              129227.14\n",
      "mercedes_benz     130860.26\n",
      "audi              129287.78\n",
      "ford              124046.84\n",
      "renault           128183.82\n",
      "peugeot           127136.81\n",
      "fiat              116553.95\n",
      "seat              121563.57\n",
      "skoda             110954.55\n",
      "mazda             124745.53\n",
      "nissan            118572.41\n",
      "citroen           119461.88\n",
      "smart              99595.81\n",
      "toyota            115709.52\n",
      "sonstige_autos     87262.36\n",
      "hyundai           106511.63\n",
      "volvo             138355.86\n",
      "mini               88602.41\n",
      "dtype: float64\n"
     ]
    }
   ],
   "source": [
    "# Now create a Series object\n",
    "brand_mean_mileage = pd.Series(top_20_mileage)\n",
    "\n",
    "# and print\n",
    "print(brand_mean_mileage)"
   ]
  },
  {
   "cell_type": "markdown",
   "metadata": {},
   "source": [
    "The good thing about pandas, is if you have two or more Series objects with the same indexes, and aggregate those in a dataframe, it will preserve the order and assign the values per row"
   ]
  },
  {
   "cell_type": "code",
   "execution_count": 211,
   "metadata": {},
   "outputs": [
    {
     "name": "stdout",
     "output_type": "stream",
     "text": [
      "                mean_price  mean_mileage\n",
      "volkswagen         6516.46     128730.37\n",
      "bmw                8334.65     132434.71\n",
      "opel               5252.62     129227.14\n",
      "mercedes_benz     30317.45     130860.26\n",
      "audi               9093.65     129287.78\n",
      "ford               7263.02     124046.84\n",
      "renault            2395.42     128183.82\n",
      "peugeot            3039.47     127136.81\n",
      "fiat               2711.80     116553.95\n",
      "seat               4296.49     121563.57\n",
      "skoda              6334.92     110954.55\n",
      "mazda              4010.77     124745.53\n",
      "nissan             4664.89     118572.41\n",
      "citroen           44534.80     119461.88\n",
      "smart              3542.71      99595.81\n",
      "toyota             5115.33     115709.52\n",
      "sonstige_autos    39621.78      87262.36\n",
      "hyundai            5308.54     106511.63\n",
      "volvo              4757.11     138355.86\n",
      "mini              10460.01      88602.41\n"
     ]
    }
   ],
   "source": [
    "mean_price_kms = pd.DataFrame({'mean_price' : brand_mean_price, 'mean_mileage' : brand_mean_mileage})\n",
    "\n",
    "print(mean_price_kms)"
   ]
  },
  {
   "cell_type": "markdown",
   "metadata": {},
   "source": [
    "Now, here is a subsetted dataframe with all the top 20 brands with the mean prices and mileage for columns, and ready for analyisis."
   ]
  },
  {
   "cell_type": "markdown",
   "metadata": {},
   "source": [
    "### Next Steps\n",
    "\n",
    "What we've done so far are just the fundamentals of Data Cleaning. There are still a lot of things we can do such as\n",
    "\n",
    "   - Data Cleaning\n",
    "        \n",
    "        - Identify categorical data that uses german words, translate them and map the values to their english counterparts\n",
    "        - Convert the dates to be uniform numeric data, so \"2016-03-21\" becomes the integer 20160321.\n",
    "        \n",
    "        - See if there are particular keywords in the name column that you can extract as new columns\n",
    "   - Analysis next steps:\n",
    "        \n",
    "        - Find the most common brand/model combinations\n",
    "\n",
    "        - Split the odometer_km into groups, and use aggregation to see if average prices follows any patterns based on the milage.\n",
    "\n",
    "        - How much cheaper are cars with damage than their non-damaged counterparts?"
   ]
  },
  {
   "cell_type": "code",
   "execution_count": null,
   "metadata": {},
   "outputs": [],
   "source": []
  }
 ],
 "metadata": {
  "kernelspec": {
   "display_name": "Python 3",
   "language": "python",
   "name": "python3"
  },
  "language_info": {
   "codemirror_mode": {
    "name": "ipython",
    "version": 3
   },
   "file_extension": ".py",
   "mimetype": "text/x-python",
   "name": "python",
   "nbconvert_exporter": "python",
   "pygments_lexer": "ipython3",
   "version": "3.7.3"
  }
 },
 "nbformat": 4,
 "nbformat_minor": 4
}
